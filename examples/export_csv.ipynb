{
 "metadata": {
  "name": ""
 },
 "nbformat": 3,
 "nbformat_minor": 0,
 "worksheets": [
  {
   "cells": [
    {
     "cell_type": "markdown",
     "metadata": {},
     "source": [
      "# Getting estimates out of DisMod-MR\n",
      "\n",
      "The goal of this document is to demonstrate how to export age-specific prevalence estimates from DisMod-MR in a comma-separated value (CSV) format, for use in subsequent analysis.\n",
      "\n",
      "It uses data from the replication dataset for regional estimates of HCV prevalence, as published in Mohd Hanafiah K, Groeger J, Flaxman AD, Wiersma ST. Global epidemiology of hepatitis C virus infection: New estimates of age-specific antibody to HCV seroprevalence. Hepatology. 2013 Apr;57(4):1333-42. doi: 10.1002/hep.26141. Epub 2013 Feb 4.  http://www.ncbi.nlm.nih.gov/pubmed/23172780\n",
      "\n",
      "The dataset is available from: http://ghdx.healthmetricsandevaluation.org/record/hepatitis-c-prevalence-1990-and-2005-all-gbd-regions\n",
      "\n",
      "    wget http://ghdx.healthmetricsandevaluation.org/sites/ghdx/files/record-attached-files/IHME_GBD_HEP_C_RESEARCH_ARCHIVE_Y2013M04D12.ZIP\n",
      "    unzip IHME_GBD_HEP_C_RESEARCH_ARCHIVE_Y2013M04D12.ZIP"
     ]
    },
    {
     "cell_type": "code",
     "collapsed": false,
     "input": [
      "#!wget http://ghdx.healthmetricsandevaluation.org/sites/ghdx/files/record-attached-files/IHME_GBD_HEP_C_RESEARCH_ARCHIVE_Y2013M04D12.ZIP\n",
      "#!unzip IHME_GBD_HEP_C_RESEARCH_ARCHIVE_Y2013M04D12.ZIP"
     ],
     "language": "python",
     "metadata": {},
     "outputs": [],
     "prompt_number": 1
    },
    {
     "cell_type": "code",
     "collapsed": false,
     "input": [
      "# This Python code will export predictions \n",
      "# for the following region/sex/year:\n",
      "predict_region = 'asia_central'\n",
      "predict_sex = 'male'\n",
      "predict_year = 2005"
     ],
     "language": "python",
     "metadata": {},
     "outputs": [],
     "prompt_number": 2
    },
    {
     "cell_type": "code",
     "collapsed": false,
     "input": [
      "# import dismod code\n",
      "import dismod_mr"
     ],
     "language": "python",
     "metadata": {},
     "outputs": [],
     "prompt_number": 3
    },
    {
     "cell_type": "markdown",
     "metadata": {},
     "source": [
      "Load the model, and keep only data for the prediction region/sex/year"
     ]
    },
    {
     "cell_type": "code",
     "collapsed": false,
     "input": [
      "model_path = 'hcv_replication/'\n",
      "dm = dismod_mr.data.load(model_path)\n",
      "\n",
      "if predict_year == 2005:\n",
      "    dm.keep(areas=[predict_region], sexes=['total', predict_sex], start_year=1997)\n",
      "elif predict_year == 1990:\n",
      "    dm.keep(areas=[predict_region], sexes=['total', predict_sex], end_year=1997)\n",
      "else:\n",
      "    raise Error, 'predict_year must equal 1990 or 2005'"
     ],
     "language": "python",
     "metadata": {},
     "outputs": [
      {
       "output_type": "stream",
       "stream": "stdout",
       "text": [
        "kept 29 rows of data\n"
       ]
      }
     ],
     "prompt_number": 4
    },
    {
     "cell_type": "code",
     "collapsed": false,
     "input": [
      "# Fit model using the data subset (faster, but no borrowing strength)\n",
      "dm.vars += dismod_mr.model.process.age_specific_rate(dm, 'p', predict_region, predict_sex, predict_year)\n",
      "%time dismod_mr.fit.asr(dm, 'p', iter=2000, burn=1000, thin=1)"
     ],
     "language": "python",
     "metadata": {},
     "outputs": [
      {
       "output_type": "stream",
       "stream": "stdout",
       "text": [
        "using stored FE for beta_p_x_sex x_sex {'mu': 0.0, 'sigma': 0.0001, 'dist': 'Normal'}\n",
        "finding initial values"
       ]
      },
      {
       "output_type": "stream",
       "stream": "stdout",
       "text": [
        " ."
       ]
      },
      {
       "output_type": "stream",
       "stream": "stdout",
       "text": [
        " ."
       ]
      },
      {
       "output_type": "stream",
       "stream": "stdout",
       "text": [
        " ."
       ]
      },
      {
       "output_type": "stream",
       "stream": "stdout",
       "text": [
        " \n",
        "finding MAP estimate"
       ]
      },
      {
       "output_type": "stream",
       "stream": "stdout",
       "text": [
        " \n",
        "finding step covariances estimate"
       ]
      },
      {
       "output_type": "stream",
       "stream": "stdout",
       "text": [
        " \n",
        "resetting initial values (1)"
       ]
      },
      {
       "output_type": "stream",
       "stream": "stdout",
       "text": [
        " ."
       ]
      },
      {
       "output_type": "stream",
       "stream": "stdout",
       "text": [
        " ."
       ]
      },
      {
       "output_type": "stream",
       "stream": "stdout",
       "text": [
        " ."
       ]
      },
      {
       "output_type": "stream",
       "stream": "stdout",
       "text": [
        " \n",
        "resetting initial values (2)\n"
       ]
      },
      {
       "output_type": "stream",
       "stream": "stdout",
       "text": [
        "mare: 0.16\n",
        "sampling from posterior\n"
       ]
      },
      {
       "output_type": "stream",
       "stream": "stdout",
       "text": [
        "CPU times: user 1min 6s, sys: 3 ms, total: 1min 6s\n",
        "Wall time: 1min 6s\n"
       ]
      },
      {
       "metadata": {},
       "output_type": "pyout",
       "prompt_number": 5,
       "text": [
        "(<pymc.NormalApproximation.MAP at 0x5149410>, <pymc.MCMC.MCMC at 0x5180250>)"
       ]
      }
     ],
     "prompt_number": 5
    },
    {
     "cell_type": "code",
     "collapsed": false,
     "input": [
      "# Make posterior predictions\n",
      "pred = dismod_mr.model.covariates.predict_for(\n",
      "            dm, dm.parameters['p'],\n",
      "            predict_region, predict_sex, predict_year,\n",
      "            predict_region, predict_sex, predict_year, True, dm.vars['p'], 0, 1)"
     ],
     "language": "python",
     "metadata": {},
     "outputs": [],
     "prompt_number": 6
    },
    {
     "cell_type": "markdown",
     "metadata": {},
     "source": [
      "The easiest way to get these predictions into a csv file is to use the Python Pandas package:"
     ]
    },
    {
     "cell_type": "code",
     "collapsed": false,
     "input": [
      "import pandas as pd"
     ],
     "language": "python",
     "metadata": {},
     "outputs": [],
     "prompt_number": 7
    },
    {
     "cell_type": "code",
     "collapsed": false,
     "input": [
      "# This generates a csv with 1000 rows,\n",
      "# one for each draw from the posterior distribution\n",
      "\n",
      "# Each column corresponds to a one-year age group,\n",
      "# e.g. column 10 is prevalence at age 10\n",
      "\n",
      "pd.DataFrame(pred).to_csv(\n",
      "    model_path + '%s-%s-%s.csv'%(predict_region, predict_sex, predict_year))"
     ],
     "language": "python",
     "metadata": {},
     "outputs": [],
     "prompt_number": 8
    },
    {
     "cell_type": "code",
     "collapsed": false,
     "input": [
      "!ls -hal hcv_replication/asia_central-male-2005.csv"
     ],
     "language": "python",
     "metadata": {},
     "outputs": [
      {
       "output_type": "stream",
       "stream": "stdout",
       "text": [
        "-rw-rw---- 1 abie Domain Users 1.6M Nov 10 16:59 hcv_replication/asia_central-male-2005.csv\r\n"
       ]
      }
     ],
     "prompt_number": 9
    },
    {
     "cell_type": "markdown",
     "metadata": {},
     "source": [
      "To aggregate this into pre-specified age categories, you need to specify the age weights and groups:"
     ]
    },
    {
     "cell_type": "code",
     "collapsed": false,
     "input": [
      "weights = [1, 8, 8, 9, 9, 10, 10, 10, 10, 10,\n",
      "           10, 10, 10, 10, 9, 9, 9, 9, 9, 9,\n",
      "           9, 9, 9, 9, 9, 9, 9, 9, 9, 9,\n",
      "           9, 9, 8, 8, 8, 8, 8, 8, 8, 8,\n",
      "           8, 7, 7, 7, 7, 7, 7, 7, 7, 7,\n",
      "           6, 6, 6, 6, 6, 6, 5, 5, 5, 5,\n",
      "           5, 5, 4, 4, 4, 4, 4, 4, 4, 3,\n",
      "           3, 3, 3, 3, 3, 3, 3, 3, 3, 3,\n",
      "           3, 1, 1, 1, 1, 1, 1, 1, 1, 1,\n",
      "           1, 1, 1, 1, 1, 1, 1, 1, 1, 1, 1]"
     ],
     "language": "python",
     "metadata": {},
     "outputs": [],
     "prompt_number": 10
    },
    {
     "cell_type": "code",
     "collapsed": false,
     "input": [
      "# 1000 samples from the posterior distribution for age-standardized prevalence\n",
      "\n",
      "age_std = np.dot(pred, weights) / np.sum(weights)\n",
      "hist(age_std, color='#cccccc', normed=True)\n",
      "xlabel('Age-standardized Prevalence')\n",
      "ylabel('Posterior Probability');"
     ],
     "language": "python",
     "metadata": {},
     "outputs": [
      {
       "metadata": {},
       "output_type": "display_data",
       "png": "[encoded data removed]",
       "text": [
        "<matplotlib.figure.Figure at 0x51800d0>"
       ]
      }
     ],
     "prompt_number": 11
    },
    {
     "cell_type": "markdown",
     "metadata": {},
     "source": [
      "You can extract an age-standardized point and interval estimate from the 1000 draws from the posterior distribution stored in age_std as follows:  (to do this for crude prevalence, use the population weights to average, instead of standard weights.)"
     ]
    },
    {
     "cell_type": "code",
     "collapsed": false,
     "input": [
      "import pymc as mc\n",
      "\n",
      "print 'age_std prev mean:', age_std.mean()\n",
      "print 'age_std prev 95% UI:', mc.utils.hpd(age_std, .05)"
     ],
     "language": "python",
     "metadata": {},
     "outputs": [
      {
       "output_type": "stream",
       "stream": "stdout",
       "text": [
        "age_std prev mean: 0.0877143376145\n",
        "age_std prev 95% UI: [ 0.06226658  0.11793971]\n"
       ]
      }
     ],
     "prompt_number": 12
    },
    {
     "cell_type": "markdown",
     "metadata": {},
     "source": [
      "For groups, just do the same thing group by group:"
     ]
    },
    {
     "cell_type": "code",
     "collapsed": false,
     "input": [
      "group_cutpoints = [0, 1,  5, 10, 15, 20, 25, 30, 35, 40, 45, 50, 55, 60, 65, 70, 75, 80, 100]"
     ],
     "language": "python",
     "metadata": {},
     "outputs": [],
     "prompt_number": 13
    },
    {
     "cell_type": "code",
     "collapsed": false,
     "input": [
      "results = []\n",
      "for a0, a1 in zip(group_cutpoints[:-1], group_cutpoints[1:]):\n",
      "    age_grp = np.dot(pred[:, a0:a1], weights[a0:a1]) / np.sum(weights[a0:a1])\n",
      "    results.append(dict(a0=a0,a1=a1,mu=age_grp.mean(),std=age_grp.std()))\n",
      "    \n",
      "results = pd.DataFrame(results)\n",
      "print np.round(results.head(), 2)"
     ],
     "language": "python",
     "metadata": {},
     "outputs": [
      {
       "output_type": "stream",
       "stream": "stdout",
       "text": [
        "   a0  a1    mu   std\n",
        "0   0   1  0.00  0.00\n",
        "1   1   5  0.00  0.00\n",
        "2   5  10  0.01  0.01\n",
        "3  10  15  0.01  0.02\n",
        "4  15  20  0.02  0.03\n"
       ]
      }
     ],
     "prompt_number": 14
    },
    {
     "cell_type": "code",
     "collapsed": false,
     "input": [
      "errorbar(.5*(results.a0+results.a1), results.mu,\n",
      "         xerr=.5*(results.a1-results.a0),\n",
      "         yerr=1.96*results['std'],\n",
      "         fmt='ks', capsize=0, mec='w')\n",
      "axis(ymin=0, xmax=100)"
     ],
     "language": "python",
     "metadata": {},
     "outputs": [
      {
       "metadata": {},
       "output_type": "pyout",
       "prompt_number": 15,
       "text": [
        "(0.0, 100, 0, 0.40000000000000002)"
       ]
      },
      {
       "metadata": {},
       "output_type": "display_data",
       "png": "[encoded data removed]",
       "text": [
        "<matplotlib.figure.Figure at 0x5534410>"
       ]
      }
     ],
     "prompt_number": 15
    },
    {
     "cell_type": "code",
     "collapsed": false,
     "input": [
      "!date"
     ],
     "language": "python",
     "metadata": {},
     "outputs": [
      {
       "output_type": "stream",
       "stream": "stdout",
       "text": [
        "Sun Nov 10 16:59:29 PST 2013\r\n"
       ]
      }
     ],
     "prompt_number": 16
    },
    {
     "cell_type": "code",
     "collapsed": false,
     "input": [],
     "language": "python",
     "metadata": {},
     "outputs": [],
     "prompt_number": 16
    }
   ],
   "metadata": {}
  }
 ]
}