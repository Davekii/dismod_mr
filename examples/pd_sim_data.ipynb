{
 "cells": [
  {
   "cell_type": "markdown",
   "metadata": {},
   "source": [
    "A motivating example: descriptive epidemiological meta-regression of Parkinson's Disease\n",
    "========================================================================================\n",
    "\n",
    "The goal of this document it give a concise demonstration of the \n",
    "strengths and limitations of DisMod-MR, the descriptive\n",
    "epidemiological meta-regression tool developed for the Global Burden of Disease,\n",
    "Injuries, and Risk Factors 2010 (GBD2010) Study."
   ]
  },
  {
   "cell_type": "markdown",
   "metadata": {},
   "source": [
    "A systematic review of PD was conducted as part of the GBD 2010\n",
    "Study. The results of this\n",
    "review---data on the prevalence, incidence, and standardized mortality ratio of\n",
    "PD---needed to be combined to produce estimates of disease prevalence by\n",
    "region, age, sex, and year.  These prevalence estimates were combined\n",
    "with disability weights to measure years lived with disability (YLDs),\n",
    "which were then combined with estimates of years of life lost (YLLs)\n",
    "to produce estimates of the burden of PD quantified in disability-adjusted life-years (DALYs).\n",
    "\n",
    "PD is a neurodegenerative disorder that includes symptoms of motor\n",
    "dysfunction, such as tremors, rigidity, and akinesia, in the early\n",
    "stages of the disease.  As the disease develops, most patients also\n",
    "develop nonmotor symptoms, such as cognitive decline, dementia,\n",
    "autonomic failure, and disordered sleep-wake regulation.  The standard\n",
    "definition for PD diagnosis includes at least two of four cardinal\n",
    "signs---resting tremor, bradykinesia, rigidity, and postural abnormalities.\n",
    "There is no cure or treatments to slow the progression of the disease;\n",
    "however, motor symptoms and disability may be improved with\n",
    "symptomatic therapy."
   ]
  },
  {
   "cell_type": "markdown",
   "metadata": {},
   "source": [
    "This document works with simulated data, so that the dataset is fully distributable.  This data is included for understanding how to use DisMod-MR, and is not intended for the study of the descriptive epidemiology of PD."
   ]
  },
  {
   "cell_type": "code",
   "execution_count": 1,
   "metadata": {},
   "outputs": [],
   "source": [
    "import numpy as np, matplotlib.pyplot as plt, pandas as pd, pymc as mc\n",
    "import dismod_mr"
   ]
  },
  {
   "cell_type": "markdown",
   "metadata": {},
   "source": [
    "\n",
    "DisMod-MR uses the integrative systems modeling (ISM) approach to produce simultaneous\n",
    "estimates of disease incidence, prevalence, remission, and mortality. The hallmark of\n",
    "ISM is incorporating all available data.  In the case of Parkinson's Disease this\n",
    "consists of population level measurements of incidence, prevalence, standardized mortality rate (SMR),\n",
    "and cause-specific mortality rate (CSMR).\n",
    "\n",
    "I will begin with a look at a subset of this data, however.  Only that from females in the Europe, Western GBD region."
   ]
  },
  {
   "cell_type": "code",
   "execution_count": 2,
   "metadata": {},
   "outputs": [
    {
     "name": "stdout",
     "output_type": "stream",
     "text": [
      "kept 348 rows of data\n"
     ]
    },
    {
     "name": "stderr",
     "output_type": "stream",
     "text": [
      "/ihme/homes/abie/projects/2019/dismod_mr/dismod_mr/data.py:596: FutureWarning: from_csv is deprecated. Please use read_csv(...) instead. Note that some of the default arguments are different, so please refer to the documentation for from_csv when changing your function calls\n",
      "  d.output_template = pd.DataFrame.from_csv(path + '/output_template.csv')\n",
      "/ihme/homes/abie/projects/2019/dismod_mr/dismod_mr/data.py:292: FutureWarning: 'select' is deprecated and will be removed in a future release. You can use .loc[labels.map(crit)] as a replacement\n",
      "  self.input_data = self.input_data.select(relevant_row)\n",
      "/ihme/homes/abie/projects/2019/dismod_mr/dismod_mr/data.py:295: FutureWarning: 'select' is deprecated and will be removed in a future release. You can use .loc[labels.map(crit)] as a replacement\n",
      "  self.input_data = self.input_data.select(lambda i: self.input_data['sex'][i] in sexes)\n",
      "/ihme/homes/abie/projects/2019/dismod_mr/dismod_mr/data.py:297: FutureWarning: 'select' is deprecated and will be removed in a future release. You can use .loc[labels.map(crit)] as a replacement\n",
      "  self.input_data = self.input_data.select(lambda i: self.input_data['year_end'][i] >= start_year)\n",
      "/ihme/homes/abie/projects/2019/dismod_mr/dismod_mr/data.py:298: FutureWarning: 'select' is deprecated and will be removed in a future release. You can use .loc[labels.map(crit)] as a replacement\n",
      "  self.input_data = self.input_data.select(lambda i: self.input_data['year_start'][i] <= end_year)\n"
     ]
    }
   ],
   "source": [
    "model = dismod_mr.data.load('pd_sim_data')\n",
    "model.keep(areas=['europe_western'], sexes=['female', 'total'])"
   ]
  },
  {
   "cell_type": "markdown",
   "metadata": {},
   "source": [
    "Of the 348 rows of data, here is how the values breakdown by data type:"
   ]
  },
  {
   "cell_type": "code",
   "execution_count": 3,
   "metadata": {},
   "outputs": [
    {
     "data": {
      "text/html": [
       "<div>\n",
       "<style scoped>\n",
       "    .dataframe tbody tr th:only-of-type {\n",
       "        vertical-align: middle;\n",
       "    }\n",
       "\n",
       "    .dataframe tbody tr th {\n",
       "        vertical-align: top;\n",
       "    }\n",
       "\n",
       "    .dataframe thead th {\n",
       "        text-align: right;\n",
       "    }\n",
       "</style>\n",
       "<table border=\"1\" class=\"dataframe\">\n",
       "  <thead>\n",
       "    <tr style=\"text-align: right;\">\n",
       "      <th></th>\n",
       "      <th>count</th>\n",
       "      <th>mean</th>\n",
       "      <th>std</th>\n",
       "      <th>min</th>\n",
       "      <th>25%</th>\n",
       "      <th>50%</th>\n",
       "      <th>75%</th>\n",
       "      <th>max</th>\n",
       "    </tr>\n",
       "    <tr>\n",
       "      <th>data_type</th>\n",
       "      <th></th>\n",
       "      <th></th>\n",
       "      <th></th>\n",
       "      <th></th>\n",
       "      <th></th>\n",
       "      <th></th>\n",
       "      <th></th>\n",
       "      <th></th>\n",
       "    </tr>\n",
       "  </thead>\n",
       "  <tbody>\n",
       "    <tr>\n",
       "      <th>p</th>\n",
       "      <td>226.0</td>\n",
       "      <td>0.005</td>\n",
       "      <td>0.008</td>\n",
       "      <td>0.000</td>\n",
       "      <td>0.000</td>\n",
       "      <td>0.003</td>\n",
       "      <td>0.007</td>\n",
       "      <td>0.052</td>\n",
       "    </tr>\n",
       "    <tr>\n",
       "      <th>m_all</th>\n",
       "      <td>44.0</td>\n",
       "      <td>0.060</td>\n",
       "      <td>0.125</td>\n",
       "      <td>0.000</td>\n",
       "      <td>0.000</td>\n",
       "      <td>0.003</td>\n",
       "      <td>0.033</td>\n",
       "      <td>0.500</td>\n",
       "    </tr>\n",
       "    <tr>\n",
       "      <th>csmr</th>\n",
       "      <td>39.0</td>\n",
       "      <td>0.000</td>\n",
       "      <td>0.000</td>\n",
       "      <td>0.000</td>\n",
       "      <td>0.000</td>\n",
       "      <td>0.000</td>\n",
       "      <td>0.000</td>\n",
       "      <td>0.001</td>\n",
       "    </tr>\n",
       "    <tr>\n",
       "      <th>i</th>\n",
       "      <td>33.0</td>\n",
       "      <td>0.001</td>\n",
       "      <td>0.001</td>\n",
       "      <td>0.000</td>\n",
       "      <td>0.000</td>\n",
       "      <td>0.000</td>\n",
       "      <td>0.001</td>\n",
       "      <td>0.008</td>\n",
       "    </tr>\n",
       "    <tr>\n",
       "      <th>smr</th>\n",
       "      <td>6.0</td>\n",
       "      <td>1.762</td>\n",
       "      <td>0.672</td>\n",
       "      <td>1.115</td>\n",
       "      <td>1.276</td>\n",
       "      <td>1.569</td>\n",
       "      <td>2.100</td>\n",
       "      <td>2.864</td>\n",
       "    </tr>\n",
       "  </tbody>\n",
       "</table>\n",
       "</div>"
      ],
      "text/plain": [
       "           count   mean    std    min    25%    50%    75%    max\n",
       "data_type                                                        \n",
       "p          226.0  0.005  0.008  0.000  0.000  0.003  0.007  0.052\n",
       "m_all       44.0  0.060  0.125  0.000  0.000  0.003  0.033  0.500\n",
       "csmr        39.0  0.000  0.000  0.000  0.000  0.000  0.000  0.001\n",
       "i           33.0  0.001  0.001  0.000  0.000  0.000  0.001  0.008\n",
       "smr          6.0  1.762  0.672  1.115  1.276  1.569  2.100  2.864"
      ]
     },
     "execution_count": 3,
     "metadata": {},
     "output_type": "execute_result"
    }
   ],
   "source": [
    "summary = model.input_data.groupby('data_type')['value'].describe()\n",
    "np.round(summary,3).sort_values('count', ascending=False)"
   ]
  },
  {
   "cell_type": "markdown",
   "metadata": {},
   "source": [
    "More than half of the available data for this region is prevalence data.  I'll take a closer look\n",
    "at that now."
   ]
  },
  {
   "cell_type": "code",
   "execution_count": 4,
   "metadata": {},
   "outputs": [
    {
     "data": {
      "text/plain": [
       "1.7620067430983335"
      ]
     },
     "execution_count": 4,
     "metadata": {},
     "output_type": "execute_result"
    }
   ],
   "source": [
    "model.get_data('smr').value.mean()"
   ]
  },
  {
   "cell_type": "code",
   "execution_count": 5,
   "metadata": {},
   "outputs": [
    {
     "name": "stdout",
     "output_type": "stream",
     "text": [
      "                count   mean    std    min    25%    50%    75%    max\n",
      "area                                                                  \n",
      "AUT               1.0  0.006    NaN  0.006  0.006  0.006  0.006  0.006\n",
      "ESP              43.0  0.006  0.007  0.000  0.001  0.006  0.009  0.037\n",
      "europe_western   13.0  0.007  0.006  0.000  0.001  0.006  0.013  0.017\n",
      "FRA              19.0  0.007  0.008  0.000  0.001  0.005  0.010  0.027\n",
      "DNK               6.0  0.004  0.003  0.001  0.001  0.004  0.005  0.009\n",
      "FIN               1.0  0.004    NaN  0.004  0.004  0.004  0.004  0.004\n",
      "NLD              20.0  0.009  0.015  0.000  0.000  0.004  0.011  0.052\n",
      "NOR               4.0  0.005  0.004  0.002  0.003  0.003  0.005  0.011\n",
      "SWE               6.0  0.003  0.003  0.000  0.001  0.003  0.004  0.008\n",
      "ITA              53.0  0.004  0.006  0.000  0.000  0.002  0.005  0.033\n",
      "GBR              36.0  0.004  0.006  0.000  0.000  0.001  0.005  0.022\n",
      "ISR               4.0  0.003  0.004  0.000  0.000  0.001  0.004  0.009\n",
      "DEU               9.0  0.004  0.009  0.000  0.000  0.000  0.006  0.026\n",
      "PRT              11.0  0.002  0.003  0.000  0.000  0.000  0.003  0.010\n"
     ]
    }
   ],
   "source": [
    "groups = model.get_data('p').groupby('area')\n",
    "print(np.round_(groups['value'].describe(),3).sort_values('50%', ascending=False))"
   ]
  },
  {
   "cell_type": "markdown",
   "metadata": {},
   "source": [
    "In the original dataset, there was a wide range in median values, which reflects a combination of country-to-country variation and compositional bias.  Simulating data has reduced this substantially, but there is still six-fold variation between ESP and GBR."
   ]
  },
  {
   "cell_type": "code",
   "execution_count": 6,
   "metadata": {},
   "outputs": [],
   "source": [
    "countries = ['ESP', 'GBR']\n",
    "c = {}\n",
    "for i, c_i in enumerate(countries):\n",
    "    c[i] = groups.get_group(c_i)"
   ]
  },
  {
   "cell_type": "code",
   "execution_count": 7,
   "metadata": {},
   "outputs": [
    {
     "data": {
      "image/png": "[encoded data removed]",
      "text/plain": [
       "<Figure size 720x288 with 2 Axes>"
      ]
     },
     "metadata": {
      "needs_background": "light"
     },
     "output_type": "display_data"
    }
   ],
   "source": [
    "ax = None\n",
    "plt.figure(figsize=(10,4))\n",
    "for i, c_i in enumerate(countries):\n",
    "    ax = plt.subplot(1,2,1+i, sharey=ax, sharex=ax)\n",
    "    dismod_mr.plot.data_bars(c[i])\n",
    "    plt.xlabel('Age (years)')\n",
    "    plt.ylabel('Prevalence (per 1)')\n",
    "    plt.title(c_i)\n",
    "plt.axis(ymin=-.001, xmin=-5, xmax=105)\n",
    "plt.subplots_adjust(wspace=.3)"
   ]
  },
  {
   "cell_type": "markdown",
   "metadata": {},
   "source": [
    "A model for age-specific parameters when measurements have heterogeneous age groups\n",
    "-----------------------------------------------------------------------------------"
   ]
  },
  {
   "cell_type": "markdown",
   "metadata": {},
   "source": [
    "DisMod-MR has four features that make it particularly suited for estimating age-specific prevalence of PD from this data:\n",
    "\n",
    "* Piecewise linear spline model for change in prevalence as a function of age\n",
    "* Age-standardizing model of age-group heterogeneity represents the heterogeneous age groups collected in systematic review\n",
    "* Country-level random effects for true variation in prevalence between countries\n",
    "* Negative binomial model of data, which provides data-driven estimation of non-sampling error in measurements\n",
    "  and elegantly handles measurements of 0"
   ]
  },
  {
   "cell_type": "markdown",
   "metadata": {},
   "source": [
    "I will now fit the prevalence data with DisMod-MR's age-standardizing negative binomial random effect spline model and\n",
    "compare the estimates to the observed data.  Then I will use the results of the fit model to explore the four features listed above."
   ]
  },
  {
   "cell_type": "code",
   "execution_count": 8,
   "metadata": {},
   "outputs": [],
   "source": [
    "# remove fixed effects for this example, I will return to them below\n",
    "model.input_data = model.input_data.filter(regex='(?!x_)')"
   ]
  },
  {
   "cell_type": "code",
   "execution_count": 9,
   "metadata": {},
   "outputs": [
    {
     "name": "stderr",
     "output_type": "stream",
     "text": [
      "/ihme/homes/abie/projects/2019/dismod_mr/dismod_mr/model/covariates.py:84: FutureWarning: 'select' is deprecated and will be removed in a future release. You can use .loc[labels.map(crit)] as a replacement\n",
      "  U = U.select(lambda col: (U[col].max() > 0) and (model.hierarchy.node[col].get('level') > model.hierarchy.node[root_area]['level']), axis=1)  # drop columns with only zeros and which are for higher levels in hierarchy\n",
      "/ihme/homes/abie/projects/2019/dismod_mr/dismod_mr/model/covariates.py:98: FutureWarning: 'select' is deprecated and will be removed in a future release. You can use .loc[labels.map(crit)] as a replacement\n",
      "  U = U.select(lambda col: 1 <= U[col].sum() < len(U[col]) or col in keep, axis=1)\n",
      "/ihme/homes/abie/projects/2019/dismod_mr/dismod_mr/model/covariates.py:187: FutureWarning: 'select' is deprecated and will be removed in a future release. You can use .loc[labels.map(crit)] as a replacement\n",
      "  X = input_data.select(lambda col: col.startswith('x_'), axis=1)\n"
     ]
    },
    {
     "name": "stdout",
     "output_type": "stream",
     "text": [
      "WARNING: 5 rows of p data has invalid quantification of uncertainty.\n",
      "finding initial values\n"
     ]
    },
    {
     "name": "stderr",
     "output_type": "stream",
     "text": [
      "/share/code/abie/miniconda3/lib/python3.6/site-packages/pandas/core/indexing.py:543: SettingWithCopyWarning: \n",
      "A value is trying to be set on a copy of a slice from a DataFrame.\n",
      "Try using .loc[row_indexer,col_indexer] = value instead\n",
      "\n",
      "See the caveats in the documentation: http://pandas.pydata.org/pandas-docs/stable/indexing.html#indexing-view-versus-copy\n",
      "  self.obj[item] = s\n",
      "/ihme/homes/abie/projects/2019/dismod_mr/dismod_mr/model/covariates.py:273: FutureWarning: 'select' is deprecated and will be removed in a future release. You can use .loc[labels.map(crit)] as a replacement\n",
      "  Z = input_data.select(lambda col: col.startswith('z_'), axis=1)\n",
      "/ihme/homes/abie/projects/2019/dismod_mr/dismod_mr/model/covariates.py:274: FutureWarning: 'select' is deprecated and will be removed in a future release. You can use .loc[labels.map(crit)] as a replacement\n",
      "  Z = Z.select(lambda col: Z[col].std() > 0, 1)  # drop blank cols\n"
     ]
    },
    {
     "name": "stdout",
     "output_type": "stream",
     "text": [
      ". . . \n",
      "finding MAP estimate\n",
      "\n",
      "finding step covariances estimate\n",
      "\n",
      "resetting initial values (1)\n",
      ". . . \n",
      "resetting initial values (2)\n",
      "\n",
      "mare: nan\n",
      "sampling from posterior\n",
      "\n"
     ]
    },
    {
     "name": "stderr",
     "output_type": "stream",
     "text": [
      "/ihme/homes/abie/.local/lib/python3.6/site-packages/numpy/lib/function_base.py:4033: RuntimeWarning: Invalid value encountered in median\n",
      "  r = func(a, **kwargs)\n"
     ]
    },
    {
     "name": "stdout",
     "output_type": "stream",
     "text": [
      "CPU times: user 2min 27s, sys: 204 ms, total: 2min 27s\n",
      "Wall time: 2min 27s\n"
     ]
    },
    {
     "data": {
      "text/plain": [
       "(<pymc.NormalApproximation.MAP at 0x2b78d8a64978>,\n",
       " <pymc.MCMC.MCMC at 0x2b78d6951b00>)"
      ]
     },
     "execution_count": 9,
     "metadata": {},
     "output_type": "execute_result"
    }
   ],
   "source": [
    "model.vars += dismod_mr.model.asr(model, 'p')\n",
    "%time dismod_mr.fit.asr(model, 'p')"
   ]
  },
  {
   "cell_type": "code",
   "execution_count": 10,
   "metadata": {
    "scrolled": true
   },
   "outputs": [
    {
     "data": {
      "image/png": "[encoded data removed]",
      "text/plain": [
       "<Figure size 720x288 with 1 Axes>"
      ]
     },
     "metadata": {
      "needs_background": "light"
     },
     "output_type": "display_data"
    }
   ],
   "source": [
    "# plot age-specific prevalence estimates over data bars\n",
    "plt.figure(figsize=(10,4))\n",
    "\n",
    "dismod_mr.plot.data_bars(model.get_data('p'), color='grey', label='Simulated PD Data')\n",
    "pred = dismod_mr.model.predict_for(model, model.parameters['p'], 'all', 'female', 2005,\n",
    "                                      'GBR', 'female', 2005, 1.,\n",
    "                                      model.vars['p'], 0., 1.)    # TODO: simplify this method!\n",
    "\n",
    "hpd = mc.utils.hpd(pred, .05)\n",
    "\n",
    "plt.plot(np.arange(101), pred.mean(axis=0), 'k-', linewidth=2, label='Posterior Mean')\n",
    "plt.plot(np.arange(101), hpd[0,:], 'k--', linewidth=1, label='95% HPD interval')\n",
    "plt.plot(np.arange(101), hpd[1,:], 'k--', linewidth=1)\n",
    "\n",
    "plt.xlabel('Age (years)')\n",
    "plt.ylabel('Prevalence (per 1)')\n",
    "plt.grid()\n",
    "plt.legend(loc='upper left')\n",
    "\n",
    "plt.axis(ymin=-.001, xmin=-5, xmax=105);"
   ]
  },
  {
   "cell_type": "code",
   "execution_count": 11,
   "metadata": {},
   "outputs": [],
   "source": [
    "p_only = model  # store results for future comparison"
   ]
  },
  {
   "cell_type": "markdown",
   "metadata": {},
   "source": [
    "This estimate shows the nonlinear increase in prevalence as a function of age, where the slope of the\n",
    "curve increases at age 60.  A nonlinear estimate like this is possible thanks to DisMod-MR's piecewise linear\n",
    "spline model.\n",
    "\n",
    "The age-standardizing model for heterogeneous age groups is also important for\n",
    "such settings; a naive approach, such as using the age interval midpoint, would result in under-estimating\n",
    "the prevalence for age groups that include both individuals older and younger than 60."
   ]
  },
  {
   "cell_type": "markdown",
   "metadata": {},
   "source": [
    "\n",
    "The exact age where the slope of the curve changes is _not_ entirely data driven in this example.  The knots\n",
    "in the piecewise linear spline model were chosen a priori, on the following grid:"
   ]
  },
  {
   "cell_type": "code",
   "execution_count": 12,
   "metadata": {},
   "outputs": [
    {
     "data": {
      "text/plain": [
       "[0, 30, 45, 60, 80, 100]"
      ]
     },
     "execution_count": 12,
     "metadata": {},
     "output_type": "execute_result"
    }
   ],
   "source": [
    "model.parameters['p']['parameter_age_mesh']"
   ]
  },
  {
   "cell_type": "markdown",
   "metadata": {},
   "source": [
    "A sparse grid allows faster computation, but a dense grid allows more expressive age pattens.  Choosing\n",
    "the proper balance is one challenge of a DisMod-MR analysis.  This is especially true for sparse,\n",
    "noisy data, where too many knots allow the model to follow noisy idiosyncrasies of the data.  DisMod-MR\n",
    "allows for penalized spline regression to help with this choice."
   ]
  },
  {
   "cell_type": "markdown",
   "metadata": {},
   "source": [
    "The country-level random effects in this model capture country-to-country variation in PD prevalence.\n",
    "This variation is not visible in the graphic above, which shows the regional aggregation of country-level\n",
    "estimates (using a population weighted average that takes uncertainty into account).\n",
    "\n",
    "The country-level random effects take the form of intercept shifts in log-prevalence space, with values\n",
    "showing in the following:"
   ]
  },
  {
   "cell_type": "code",
   "execution_count": 13,
   "metadata": {},
   "outputs": [],
   "source": [
    "df = pd.DataFrame(index=[alpha_i.__name__ for alpha_i in model.vars['p']['alpha']],\n",
    "                      columns=['mean', 'lb', 'ub'])\n",
    "for alpha_i in model.vars['p']['alpha']:\n",
    "    trace = alpha_i.trace()\n",
    "    hpd = mc.utils.hpd(trace, .05)\n",
    "    df.loc[alpha_i.__name__] = (np.mean(trace), hpd[0], hpd[1])"
   ]
  },
  {
   "cell_type": "code",
   "execution_count": 14,
   "metadata": {},
   "outputs": [
    {
     "name": "stdout",
     "output_type": "stream",
     "text": [
      "              mean     lb     ub\n",
      "alpha_p_ISR  0.024 -0.137  0.174\n",
      "alpha_p_NOR  0.021 -0.110  0.168\n",
      "alpha_p_FRA  0.016 -0.156  0.170\n",
      "alpha_p_DNK  0.013 -0.125  0.135\n",
      "alpha_p_ESP  0.013 -0.118  0.148\n",
      "alpha_p_GBR  0.013 -0.095  0.179\n",
      "alpha_p_PRT  0.011 -0.109  0.153\n",
      "alpha_p_AUT  0.010 -0.148  0.111\n",
      "alpha_p_FIN -0.005 -0.141  0.143\n",
      "alpha_p_NLD -0.006 -0.110  0.111\n",
      "alpha_p_ITA -0.010 -0.140  0.099\n",
      "alpha_p_DEU -0.021 -0.156  0.129\n",
      "alpha_p_SWE -0.022 -0.148  0.128\n"
     ]
    }
   ],
   "source": [
    "print(np.round(df.astype(float),3).sort_values('mean', ascending=False))"
   ]
  },
  {
   "cell_type": "markdown",
   "metadata": {},
   "source": [
    "The fourth feature of the model which I want to draw attention to here is the negative binomial model of data,\n",
    "which deals with measurements of zero prevalence in a principled way.  Prevalence studies are reporting transformations\n",
    "of count data, and count data can be zero.  In the case of prevalence of PD in 30- to 40-year-olds, it often _will_ be zero."
   ]
  },
  {
   "cell_type": "code",
   "execution_count": 15,
   "metadata": {},
   "outputs": [
    {
     "data": {
      "text/html": [
       "<div>\n",
       "<style scoped>\n",
       "    .dataframe tbody tr th:only-of-type {\n",
       "        vertical-align: middle;\n",
       "    }\n",
       "\n",
       "    .dataframe tbody tr th {\n",
       "        vertical-align: top;\n",
       "    }\n",
       "\n",
       "    .dataframe thead th {\n",
       "        text-align: right;\n",
       "    }\n",
       "</style>\n",
       "<table border=\"1\" class=\"dataframe\">\n",
       "  <thead>\n",
       "    <tr style=\"text-align: right;\">\n",
       "      <th></th>\n",
       "      <th>age_start</th>\n",
       "      <th>age_end</th>\n",
       "      <th>area</th>\n",
       "      <th>value</th>\n",
       "    </tr>\n",
       "  </thead>\n",
       "  <tbody>\n",
       "    <tr>\n",
       "      <th>394</th>\n",
       "      <td>0</td>\n",
       "      <td>54</td>\n",
       "      <td>ITA</td>\n",
       "      <td>0.000467</td>\n",
       "    </tr>\n",
       "    <tr>\n",
       "      <th>371</th>\n",
       "      <td>0</td>\n",
       "      <td>49</td>\n",
       "      <td>ITA</td>\n",
       "      <td>0.000000</td>\n",
       "    </tr>\n",
       "    <tr>\n",
       "      <th>559</th>\n",
       "      <td>0</td>\n",
       "      <td>4</td>\n",
       "      <td>PRT</td>\n",
       "      <td>0.000000</td>\n",
       "    </tr>\n",
       "    <tr>\n",
       "      <th>444</th>\n",
       "      <td>0</td>\n",
       "      <td>34</td>\n",
       "      <td>ITA</td>\n",
       "      <td>0.000003</td>\n",
       "    </tr>\n",
       "    <tr>\n",
       "      <th>276</th>\n",
       "      <td>0</td>\n",
       "      <td>49</td>\n",
       "      <td>ITA</td>\n",
       "      <td>0.000056</td>\n",
       "    </tr>\n",
       "    <tr>\n",
       "      <th>187</th>\n",
       "      <td>0</td>\n",
       "      <td>29</td>\n",
       "      <td>GBR</td>\n",
       "      <td>0.000000</td>\n",
       "    </tr>\n",
       "    <tr>\n",
       "      <th>563</th>\n",
       "      <td>5</td>\n",
       "      <td>9</td>\n",
       "      <td>PRT</td>\n",
       "      <td>0.000000</td>\n",
       "    </tr>\n",
       "    <tr>\n",
       "      <th>574</th>\n",
       "      <td>10</td>\n",
       "      <td>14</td>\n",
       "      <td>PRT</td>\n",
       "      <td>0.000000</td>\n",
       "    </tr>\n",
       "    <tr>\n",
       "      <th>575</th>\n",
       "      <td>15</td>\n",
       "      <td>24</td>\n",
       "      <td>PRT</td>\n",
       "      <td>0.000000</td>\n",
       "    </tr>\n",
       "    <tr>\n",
       "      <th>19</th>\n",
       "      <td>20</td>\n",
       "      <td>59</td>\n",
       "      <td>DEU</td>\n",
       "      <td>0.000167</td>\n",
       "    </tr>\n",
       "    <tr>\n",
       "      <th>558</th>\n",
       "      <td>25</td>\n",
       "      <td>34</td>\n",
       "      <td>PRT</td>\n",
       "      <td>0.000000</td>\n",
       "    </tr>\n",
       "    <tr>\n",
       "      <th>161</th>\n",
       "      <td>30</td>\n",
       "      <td>99</td>\n",
       "      <td>GBR</td>\n",
       "      <td>0.000000</td>\n",
       "    </tr>\n",
       "    <tr>\n",
       "      <th>438</th>\n",
       "      <td>30</td>\n",
       "      <td>99</td>\n",
       "      <td>ITA</td>\n",
       "      <td>0.005370</td>\n",
       "    </tr>\n",
       "    <tr>\n",
       "      <th>422</th>\n",
       "      <td>30</td>\n",
       "      <td>39</td>\n",
       "      <td>ITA</td>\n",
       "      <td>0.000022</td>\n",
       "    </tr>\n",
       "    <tr>\n",
       "      <th>375</th>\n",
       "      <td>30</td>\n",
       "      <td>99</td>\n",
       "      <td>ITA</td>\n",
       "      <td>0.002525</td>\n",
       "    </tr>\n",
       "  </tbody>\n",
       "</table>\n",
       "</div>"
      ],
      "text/plain": [
       "     age_start  age_end area     value\n",
       "394          0       54  ITA  0.000467\n",
       "371          0       49  ITA  0.000000\n",
       "559          0        4  PRT  0.000000\n",
       "444          0       34  ITA  0.000003\n",
       "276          0       49  ITA  0.000056\n",
       "187          0       29  GBR  0.000000\n",
       "563          5        9  PRT  0.000000\n",
       "574         10       14  PRT  0.000000\n",
       "575         15       24  PRT  0.000000\n",
       "19          20       59  DEU  0.000167\n",
       "558         25       34  PRT  0.000000\n",
       "161         30       99  GBR  0.000000\n",
       "438         30       99  ITA  0.005370\n",
       "422         30       39  ITA  0.000022\n",
       "375         30       99  ITA  0.002525"
      ]
     },
     "execution_count": 15,
     "metadata": {},
     "output_type": "execute_result"
    }
   ],
   "source": [
    "model.get_data('p').sort_values('age_start').filter(['age_start', 'age_end', 'area', 'value']).head(15)"
   ]
  },
  {
   "cell_type": "markdown",
   "metadata": {},
   "source": [
    "The negative binomial model has an appropriately skewed distribution, where prevalence measurements \n",
    "of zero are possible, but measurements of less than zero are not possible.  To demonstrate how this\n",
    "functions, the next figure shows the \"posterior predictive distribution\" for the measurements above,\n",
    "i.e. sample values that the model predicts would be found of the studies were conducted again under\n",
    "the same conditions."
   ]
  },
  {
   "cell_type": "code",
   "execution_count": 16,
   "metadata": {},
   "outputs": [],
   "source": [
    "pred = model.vars['p']['p_pred'].trace()\n",
    "obs = np.array(model.vars['p']['p_obs'].value)\n",
    "ess = np.array(model.vars['p']['p_obs'].parents['n'])"
   ]
  },
  {
   "cell_type": "code",
   "execution_count": 17,
   "metadata": {},
   "outputs": [
    {
     "data": {
      "text/plain": [
       "Text(0.5, 1.0, 'Posterior Predictive distribution')"
      ]
     },
     "execution_count": 17,
     "metadata": {},
     "output_type": "execute_result"
    },
    {
     "data": {
      "image/png": "[encoded data removed]",
      "text/plain": [
       "<Figure size 720x288 with 1 Axes>"
      ]
     },
     "metadata": {
      "needs_background": "light"
     },
     "output_type": "display_data"
    }
   ],
   "source": [
    "plt.figure(figsize=(10,4))\n",
    "\n",
    "sorted_indices = obs.argsort().argsort()\n",
    "jitter = mc.rnormal(0, .1**-2, len(pred))\n",
    "\n",
    "for i,s_i in enumerate(sorted_indices):\n",
    "    plt.plot(s_i+jitter, pred[:, i], 'ko', mew=0, alpha=.25, zorder=-99)\n",
    "\n",
    "plt.errorbar(sorted_indices, obs, yerr=1.96*np.sqrt(obs*(1-obs)/ess), fmt='ks', mew=1, mec='white', ms=5)\n",
    "\n",
    "plt.xticks([])\n",
    "plt.xlabel('Measurement')\n",
    "plt.ylabel('Prevalence (%)\\n', ha='center')\n",
    "plt.yticks([0, .02, .04, .06, .08], [0, 2, 4, 6, 8])\n",
    "plt.axis([25.5,55.5,-.01,.1])\n",
    "plt.grid()\n",
    "plt.title('Posterior Predictive distribution')"
   ]
  },
  {
   "cell_type": "markdown",
   "metadata": {},
   "source": [
    "Additional features of DisMod-MR\n",
    "--------------------------------"
   ]
  },
  {
   "cell_type": "markdown",
   "metadata": {},
   "source": [
    "Four additional features of DisMod-MR that are important for many settings are:\n",
    "\n",
    "* informative priors\n",
    "* fixed effects to cross-walk between different studies\n",
    "* fixed effects to predict out of sample\n",
    "* fixed effects to explain the level of variation"
   ]
  },
  {
   "cell_type": "markdown",
   "metadata": {},
   "source": [
    "Informative priors are useful for modeling disease with less data available than PD, for example to include\n",
    "information that prevalence is zero for youngest ages, or than prevalence must be increasing as a function of\n",
    "age between certain ages.\n",
    "\n",
    "The informative priors are also key to the \"empirical Bayes\" approach to modeling age-specific differences between\n",
    "difference GBD regions.  In this setting, a model using all the world's data is used to produce estimates for each region,\n",
    "and these estimates are used as priors in region-specific models together with the data relevant to that region only."
   ]
  },
  {
   "cell_type": "markdown",
   "metadata": {},
   "source": [
    "\"Cross-walk\" fixed effects can correct for biases introduced by multiple outcome measures.  For example, in the PD dataset,"
   ]
  },
  {
   "cell_type": "code",
   "execution_count": 18,
   "metadata": {},
   "outputs": [],
   "source": [
    "model = dismod_mr.data.load('pd_sim_data')"
   ]
  },
  {
   "cell_type": "code",
   "execution_count": 19,
   "metadata": {},
   "outputs": [],
   "source": [
    "crosswalks = list(model.input_data.filter(like='x_cv').columns)\n",
    "groups = model.get_data('p').groupby(crosswalks)"
   ]
  },
  {
   "cell_type": "code",
   "execution_count": 20,
   "metadata": {},
   "outputs": [
    {
     "data": {
      "text/plain": [
       "['x_cv_ascertainment', 'x_cv_diagnostic_criteria', 'x_cv_representative']"
      ]
     },
     "execution_count": 20,
     "metadata": {},
     "output_type": "execute_result"
    }
   ],
   "source": [
    "crosswalks"
   ]
  },
  {
   "cell_type": "code",
   "execution_count": 21,
   "metadata": {},
   "outputs": [
    {
     "data": {
      "text/html": [
       "<div>\n",
       "<style scoped>\n",
       "    .dataframe tbody tr th:only-of-type {\n",
       "        vertical-align: middle;\n",
       "    }\n",
       "\n",
       "    .dataframe tbody tr th {\n",
       "        vertical-align: top;\n",
       "    }\n",
       "\n",
       "    .dataframe thead th {\n",
       "        text-align: right;\n",
       "    }\n",
       "</style>\n",
       "<table border=\"1\" class=\"dataframe\">\n",
       "  <thead>\n",
       "    <tr style=\"text-align: right;\">\n",
       "      <th></th>\n",
       "      <th>x_cv_representative</th>\n",
       "      <th>0</th>\n",
       "      <th>1</th>\n",
       "    </tr>\n",
       "    <tr>\n",
       "      <th>x_cv_ascertainment</th>\n",
       "      <th>x_cv_diagnostic_criteria</th>\n",
       "      <th></th>\n",
       "      <th></th>\n",
       "    </tr>\n",
       "  </thead>\n",
       "  <tbody>\n",
       "    <tr>\n",
       "      <th rowspan=\"2\" valign=\"top\">0</th>\n",
       "      <th>0</th>\n",
       "      <td>0.006</td>\n",
       "      <td>-</td>\n",
       "    </tr>\n",
       "    <tr>\n",
       "      <th>1</th>\n",
       "      <td>0.009</td>\n",
       "      <td>-</td>\n",
       "    </tr>\n",
       "    <tr>\n",
       "      <th rowspan=\"2\" valign=\"top\">1</th>\n",
       "      <th>0</th>\n",
       "      <td>0.004</td>\n",
       "      <td>-</td>\n",
       "    </tr>\n",
       "    <tr>\n",
       "      <th>1</th>\n",
       "      <td>0.004</td>\n",
       "      <td>0.009</td>\n",
       "    </tr>\n",
       "  </tbody>\n",
       "</table>\n",
       "</div>"
      ],
      "text/plain": [
       "x_cv_representative                              0      1\n",
       "x_cv_ascertainment x_cv_diagnostic_criteria              \n",
       "0                  0                         0.006      -\n",
       "                   1                         0.009      -\n",
       "1                  0                         0.004      -\n",
       "                   1                         0.004  0.009"
      ]
     },
     "execution_count": 21,
     "metadata": {},
     "output_type": "execute_result"
    }
   ],
   "source": [
    "np.round(groups['value'].describe(),3).unstack()['mean'].fillna('-')"
   ]
  },
  {
   "cell_type": "markdown",
   "metadata": {},
   "source": [
    "Incorporating data on parameters other than prevalence\n",
    "------------------------------------------------------\n",
    "\n",
    "So far this example has focused on modeling the prevalence of PD from the\n",
    "prevalence data alone.  However, this represents about half of the available\n",
    "data.  There is also information on incidence, SMR, and CSMR, which has not\n",
    "yet been incorporated.\n",
    "\n",
    "DisMod-MR is capable of including all of the available data, using a compartmental\n",
    "model of disease moving through a population.  This model formalizes the observation\n",
    "that prevalent cases must once have been incident cases, and continue to be prevalent\n",
    "cases until remission or death.\n",
    "\n",
    "In this model, incidence, remission, and excess-mortality are age-standardizing negative binomial random effect spline models,\n",
    "while prevalence, SMR, CSMR, and other parameters come from the solution to a system of ordinary differential equations.\n",
    "\n",
    "The results of this model are smoother prevalence curves that take longer to calculate."
   ]
  },
  {
   "cell_type": "code",
   "execution_count": 22,
   "metadata": {},
   "outputs": [
    {
     "data": {
      "image/png": "[encoded data removed]",
      "text/plain": [
       "<Figure size 720x432 with 4 Axes>"
      ]
     },
     "metadata": {
      "needs_background": "light"
     },
     "output_type": "display_data"
    }
   ],
   "source": [
    "plt.figure(figsize=(10,6))\n",
    "\n",
    "plt.subplot(2,2,1); dismod_mr.plot.data_bars(model.get_data('p')); plt.xlabel('Age (years)'); plt.ylabel('Prevalence')\n",
    "plt.subplot(2,2,2); dismod_mr.plot.data_bars(model.get_data('i')); plt.xlabel('Age (years)'); plt.ylabel('Incidence')\n",
    "plt.subplot(2,2,3); dismod_mr.plot.data_bars(model.get_data('csmr')); plt.xlabel('Age (years)'); plt.ylabel('Cause-specific mortality')\n",
    "plt.subplot(2,2,4); dismod_mr.plot.data_bars(model.get_data('smr')); plt.xlabel('Age (years)'); plt.ylabel('Standardized \\nmortality ratio');"
   ]
  },
  {
   "cell_type": "code",
   "execution_count": 23,
   "metadata": {},
   "outputs": [
    {
     "data": {
      "text/plain": [
       "Index(['index', 'age_end', 'age_start', 'age_weights', 'area', 'data_type',\n",
       "       'effective_sample_size', 'lower_ci', 'sex', 'standard_error',\n",
       "       'upper_ci', 'value', 'x_cv_ascertainment', 'x_cv_diagnostic_criteria',\n",
       "       'x_cv_representative', 'year_end', 'year_start'],\n",
       "      dtype='object')"
      ]
     },
     "execution_count": 23,
     "metadata": {},
     "output_type": "execute_result"
    }
   ],
   "source": [
    "model.input_data.columns"
   ]
  },
  {
   "cell_type": "code",
   "execution_count": 24,
   "metadata": {},
   "outputs": [
    {
     "name": "stdout",
     "output_type": "stream",
     "text": [
      "using stored FE for beta_i_x_cv_ascertainment x_cv_ascertainment {'mu': 0, 'dist': 'Normal', 'sigma': 0.0001}\n",
      "using stored FE for beta_i_x_cv_diagnostic_criteria x_cv_diagnostic_criteria {'mu': 0, 'dist': 'Normal', 'sigma': 0.0001}\n",
      "using stored FE for beta_i_x_cv_representative x_cv_representative {'mu': 0, 'dist': 'Normal', 'sigma': 0.0001}\n",
      "using stored FE for beta_i_x_sex x_sex {'mu': 0, 'dist': 'Normal', 'sigma': 0.0001}\n",
      "using stored FE for beta_r_x_cv_ascertainment x_cv_ascertainment {'mu': 0, 'dist': 'Normal', 'sigma': 0.0001}\n",
      "using stored FE for beta_r_x_cv_diagnostic_criteria x_cv_diagnostic_criteria {'mu': 0, 'dist': 'Normal', 'sigma': 0.0001}\n",
      "using stored FE for beta_r_x_cv_representative x_cv_representative {'mu': 0, 'dist': 'Normal', 'sigma': 0.0001}\n",
      "using stored FE for beta_r_x_sex x_sex {'mu': 0, 'dist': 'Normal', 'sigma': 0.0001}\n",
      "using stored FE for beta_f_x_cv_ascertainment x_cv_ascertainment {'mu': 0, 'dist': 'Normal', 'sigma': 0.0001}\n",
      "using stored FE for beta_f_x_cv_diagnostic_criteria x_cv_diagnostic_criteria {'mu': 0, 'dist': 'Normal', 'sigma': 0.0001}\n",
      "using stored FE for beta_f_x_cv_representative x_cv_representative {'mu': 0, 'dist': 'Normal', 'sigma': 0.0001}\n",
      "using stored FE for beta_f_x_sex x_sex {'mu': 0, 'dist': 'Normal', 'sigma': 0.0001}\n"
     ]
    },
    {
     "name": "stderr",
     "output_type": "stream",
     "text": [
      "/ihme/homes/abie/projects/2019/dismod_mr/dismod_mr/model/covariates.py:84: FutureWarning: 'select' is deprecated and will be removed in a future release. You can use .loc[labels.map(crit)] as a replacement\n",
      "  U = U.select(lambda col: (U[col].max() > 0) and (model.hierarchy.node[col].get('level') > model.hierarchy.node[root_area]['level']), axis=1)  # drop columns with only zeros and which are for higher levels in hierarchy\n",
      "/ihme/homes/abie/projects/2019/dismod_mr/dismod_mr/model/covariates.py:98: FutureWarning: 'select' is deprecated and will be removed in a future release. You can use .loc[labels.map(crit)] as a replacement\n",
      "  U = U.select(lambda col: 1 <= U[col].sum() < len(U[col]) or col in keep, axis=1)\n",
      "/ihme/homes/abie/projects/2019/dismod_mr/dismod_mr/model/covariates.py:187: FutureWarning: 'select' is deprecated and will be removed in a future release. You can use .loc[labels.map(crit)] as a replacement\n",
      "  X = input_data.select(lambda col: col.startswith('x_'), axis=1)\n",
      "/share/code/abie/miniconda3/lib/python3.6/site-packages/pandas/core/indexing.py:543: SettingWithCopyWarning: \n",
      "A value is trying to be set on a copy of a slice from a DataFrame.\n",
      "Try using .loc[row_indexer,col_indexer] = value instead\n",
      "\n",
      "See the caveats in the documentation: http://pandas.pydata.org/pandas-docs/stable/indexing.html#indexing-view-versus-copy\n",
      "  self.obj[item] = s\n",
      "/ihme/homes/abie/projects/2019/dismod_mr/dismod_mr/model/covariates.py:273: FutureWarning: 'select' is deprecated and will be removed in a future release. You can use .loc[labels.map(crit)] as a replacement\n",
      "  Z = input_data.select(lambda col: col.startswith('z_'), axis=1)\n",
      "/ihme/homes/abie/projects/2019/dismod_mr/dismod_mr/model/covariates.py:274: FutureWarning: 'select' is deprecated and will be removed in a future release. You can use .loc[labels.map(crit)] as a replacement\n",
      "  Z = Z.select(lambda col: Z[col].std() > 0, 1)  # drop blank cols\n"
     ]
    },
    {
     "name": "stdout",
     "output_type": "stream",
     "text": [
      "WARNING: 5 rows of p data has invalid quantification of uncertainty.\n",
      "using stored FE for beta_X_x_cv_ascertainment x_cv_ascertainment {'mu': 0, 'dist': 'Normal', 'sigma': 0.0001}\n",
      "using stored FE for beta_X_x_cv_diagnostic_criteria x_cv_diagnostic_criteria {'mu': 0, 'dist': 'Normal', 'sigma': 0.0001}\n",
      "using stored FE for beta_X_x_cv_representative x_cv_representative {'mu': 0, 'dist': 'Normal', 'sigma': 0.0001}\n",
      "using stored FE for beta_X_x_sex x_sex {'mu': 0, 'dist': 'Normal', 'sigma': 0.0001}\n",
      "fitting submodels\n",
      ". . . . . . . . . . Initial condition calculation interrupted\n",
      "finding step covariances\n",
      ". . . . . . . . . . . . . . Initial condition calculation interrupted\n",
      "\n",
      "sampling from posterior distribution\n",
      "\n",
      "Halting at iteration  4  of  2000\n",
      "CPU times: user 6min 16s, sys: 1h 6min 28s, total: 1h 12min 44s\n",
      "Wall time: 18min 20s\n"
     ]
    },
    {
     "data": {
      "text/plain": [
       "(<pymc.NormalApproximation.MAP at 0x2b78de526a20>,\n",
       " <pymc.MCMC.MCMC at 0x2b78de526860>)"
      ]
     },
     "execution_count": 24,
     "metadata": {},
     "output_type": "execute_result"
    }
   ],
   "source": [
    "model.vars += dismod_mr.model.consistent(model)\n",
    "%time dismod_mr.fit.consistent(model)"
   ]
  },
  {
   "cell_type": "code",
   "execution_count": 26,
   "metadata": {},
   "outputs": [
    {
     "name": "stdout",
     "output_type": "stream",
     "text": [
      "Too few elements for interval calculation\n",
      "Too few elements for interval calculation\n",
      "Too few elements for interval calculation\n",
      "Too few elements for interval calculation\n",
      "Too few elements for interval calculation\n",
      "Too few elements for interval calculation\n",
      "Too few elements for interval calculation\n",
      "Too few elements for interval calculation\n",
      "Too few elements for interval calculation\n",
      "Too few elements for interval calculation\n",
      "Too few elements for interval calculation\n",
      "Too few elements for interval calculation\n",
      "Too few elements for interval calculation\n",
      "Too few elements for interval calculation\n",
      "Too few elements for interval calculation\n",
      "Too few elements for interval calculation\n",
      "Too few elements for interval calculation\n",
      "Too few elements for interval calculation\n",
      "Too few elements for interval calculation\n",
      "Too few elements for interval calculation\n",
      "Too few elements for interval calculation\n",
      "Too few elements for interval calculation\n",
      "Too few elements for interval calculation\n",
      "Too few elements for interval calculation\n",
      "Too few elements for interval calculation\n",
      "Too few elements for interval calculation\n",
      "Too few elements for interval calculation\n",
      "Too few elements for interval calculation\n",
      "Too few elements for interval calculation\n",
      "Too few elements for interval calculation\n",
      "Too few elements for interval calculation\n",
      "Too few elements for interval calculation\n",
      "Too few elements for interval calculation\n",
      "Too few elements for interval calculation\n",
      "Too few elements for interval calculation\n",
      "Too few elements for interval calculation\n",
      "Too few elements for interval calculation\n",
      "Too few elements for interval calculation\n",
      "Too few elements for interval calculation\n",
      "Too few elements for interval calculation\n",
      "Too few elements for interval calculation\n",
      "Too few elements for interval calculation\n",
      "Too few elements for interval calculation\n",
      "Too few elements for interval calculation\n",
      "Too few elements for interval calculation\n",
      "Too few elements for interval calculation\n",
      "Too few elements for interval calculation\n",
      "Too few elements for interval calculation\n",
      "Too few elements for interval calculation\n",
      "Too few elements for interval calculation\n",
      "Too few elements for interval calculation\n",
      "Too few elements for interval calculation\n",
      "Too few elements for interval calculation\n",
      "Too few elements for interval calculation\n",
      "Too few elements for interval calculation\n",
      "Too few elements for interval calculation\n",
      "Too few elements for interval calculation\n",
      "Too few elements for interval calculation\n",
      "Too few elements for interval calculation\n",
      "Too few elements for interval calculation\n",
      "Too few elements for interval calculation\n",
      "Too few elements for interval calculation\n",
      "Too few elements for interval calculation\n",
      "Too few elements for interval calculation\n",
      "Too few elements for interval calculation\n",
      "Too few elements for interval calculation\n",
      "Too few elements for interval calculation\n",
      "Too few elements for interval calculation\n",
      "Too few elements for interval calculation\n",
      "Too few elements for interval calculation\n",
      "Too few elements for interval calculation\n",
      "Too few elements for interval calculation\n",
      "Too few elements for interval calculation\n",
      "Too few elements for interval calculation\n",
      "Too few elements for interval calculation\n",
      "Too few elements for interval calculation\n",
      "Too few elements for interval calculation\n",
      "Too few elements for interval calculation\n",
      "Too few elements for interval calculation\n",
      "Too few elements for interval calculation\n",
      "Too few elements for interval calculation\n",
      "Too few elements for interval calculation\n",
      "Too few elements for interval calculation\n",
      "Too few elements for interval calculation\n",
      "Too few elements for interval calculation\n",
      "Too few elements for interval calculation\n",
      "Too few elements for interval calculation\n",
      "Too few elements for interval calculation\n",
      "Too few elements for interval calculation\n",
      "Too few elements for interval calculation\n",
      "Too few elements for interval calculation\n",
      "Too few elements for interval calculation\n",
      "Too few elements for interval calculation\n",
      "Too few elements for interval calculation\n",
      "Too few elements for interval calculation\n",
      "Too few elements for interval calculation\n",
      "Too few elements for interval calculation\n",
      "Too few elements for interval calculation\n",
      "Too few elements for interval calculation\n",
      "Too few elements for interval calculation\n",
      "Too few elements for interval calculation\n",
      "Too few elements for interval calculation\n",
      "Too few elements for interval calculation\n",
      "Too few elements for interval calculation\n",
      "Too few elements for interval calculation\n",
      "Too few elements for interval calculation\n",
      "Too few elements for interval calculation\n",
      "Too few elements for interval calculation\n",
      "Too few elements for interval calculation\n",
      "Too few elements for interval calculation\n",
      "Too few elements for interval calculation\n",
      "Too few elements for interval calculation\n",
      "Too few elements for interval calculation\n",
      "Too few elements for interval calculation\n",
      "Too few elements for interval calculation\n",
      "Too few elements for interval calculation\n",
      "Too few elements for interval calculation\n",
      "Too few elements for interval calculation\n",
      "Too few elements for interval calculation\n",
      "Too few elements for interval calculation\n",
      "Too few elements for interval calculation\n",
      "Too few elements for interval calculation\n",
      "Too few elements for interval calculation\n",
      "Too few elements for interval calculation\n",
      "Too few elements for interval calculation\n",
      "Too few elements for interval calculation\n",
      "Too few elements for interval calculation\n",
      "Too few elements for interval calculation\n",
      "Too few elements for interval calculation\n",
      "Too few elements for interval calculation\n",
      "Too few elements for interval calculation\n",
      "Too few elements for interval calculation\n",
      "Too few elements for interval calculation\n",
      "Too few elements for interval calculation\n",
      "Too few elements for interval calculation\n",
      "Too few elements for interval calculation\n",
      "Too few elements for interval calculation\n",
      "Too few elements for interval calculation\n",
      "Too few elements for interval calculation\n",
      "Too few elements for interval calculation\n",
      "Too few elements for interval calculation\n",
      "Too few elements for interval calculation\n",
      "Too few elements for interval calculation\n",
      "Too few elements for interval calculation\n",
      "Too few elements for interval calculation\n",
      "Too few elements for interval calculation\n",
      "Too few elements for interval calculation\n",
      "Too few elements for interval calculation\n",
      "Too few elements for interval calculation\n",
      "Too few elements for interval calculation\n",
      "Too few elements for interval calculation\n",
      "Too few elements for interval calculation\n",
      "Too few elements for interval calculation\n",
      "Too few elements for interval calculation\n",
      "Too few elements for interval calculation\n",
      "Too few elements for interval calculation\n",
      "Too few elements for interval calculation\n",
      "Too few elements for interval calculation\n",
      "Too few elements for interval calculation\n",
      "Too few elements for interval calculation\n",
      "Too few elements for interval calculation\n",
      "Too few elements for interval calculation\n",
      "Too few elements for interval calculation\n",
      "Too few elements for interval calculation\n",
      "Too few elements for interval calculation\n",
      "Too few elements for interval calculation\n",
      "Too few elements for interval calculation\n",
      "Too few elements for interval calculation\n",
      "Too few elements for interval calculation\n",
      "Too few elements for interval calculation\n",
      "Too few elements for interval calculation\n",
      "Too few elements for interval calculation\n",
      "Too few elements for interval calculation\n",
      "Too few elements for interval calculation\n",
      "Too few elements for interval calculation\n",
      "Too few elements for interval calculation\n",
      "Too few elements for interval calculation\n",
      "Too few elements for interval calculation\n",
      "Too few elements for interval calculation\n",
      "Too few elements for interval calculation\n",
      "Too few elements for interval calculation\n",
      "Too few elements for interval calculation\n",
      "Too few elements for interval calculation\n",
      "Too few elements for interval calculation\n",
      "Too few elements for interval calculation\n",
      "Too few elements for interval calculation\n",
      "Too few elements for interval calculation\n",
      "Too few elements for interval calculation\n",
      "Too few elements for interval calculation\n",
      "Too few elements for interval calculation\n",
      "Too few elements for interval calculation\n",
      "Too few elements for interval calculation\n",
      "Too few elements for interval calculation\n",
      "Too few elements for interval calculation\n",
      "Too few elements for interval calculation\n",
      "Too few elements for interval calculation\n",
      "Too few elements for interval calculation\n",
      "Too few elements for interval calculation\n",
      "Too few elements for interval calculation\n",
      "Too few elements for interval calculation\n",
      "Too few elements for interval calculation\n",
      "Too few elements for interval calculation\n"
     ]
    },
    {
     "name": "stderr",
     "output_type": "stream",
     "text": [
      "/share/code/abie/miniconda3/lib/python3.6/site-packages/matplotlib/figure.py:98: MatplotlibDeprecationWarning: \n",
      "Adding an axes using the same arguments as a previous axes currently reuses the earlier instance.  In a future version, a new instance will always be created and returned.  Meanwhile, this warning can be suppressed, and the future behavior ensured, by passing a unique label to each axes instance.\n",
      "  \"Adding an axes using the same arguments as a previous axes \"\n",
      "/share/code/abie/miniconda3/lib/python3.6/site-packages/ipykernel_launcher.py:24: RuntimeWarning: Mean of empty slice.\n",
      "/share/code/abie/miniconda3/lib/python3.6/site-packages/matplotlib/figure.py:98: MatplotlibDeprecationWarning: \n",
      "Adding an axes using the same arguments as a previous axes currently reuses the earlier instance.  In a future version, a new instance will always be created and returned.  Meanwhile, this warning can be suppressed, and the future behavior ensured, by passing a unique label to each axes instance.\n",
      "  \"Adding an axes using the same arguments as a previous axes \"\n",
      "/share/code/abie/miniconda3/lib/python3.6/site-packages/matplotlib/figure.py:98: MatplotlibDeprecationWarning: \n",
      "Adding an axes using the same arguments as a previous axes currently reuses the earlier instance.  In a future version, a new instance will always be created and returned.  Meanwhile, this warning can be suppressed, and the future behavior ensured, by passing a unique label to each axes instance.\n",
      "  \"Adding an axes using the same arguments as a previous axes \"\n"
     ]
    },
    {
     "ename": "ValueError",
     "evalue": "shapes (0,1) and (3,1) not aligned: 1 (dim 1) != 3 (dim 0)",
     "output_type": "error",
     "traceback": [
      "\u001b[0;31m---------------------------------------------------------------------------\u001b[0m",
      "\u001b[0;31mValueError\u001b[0m                                Traceback (most recent call last)",
      "\u001b[0;32m<ipython-input-26-d48bef4f7f15>\u001b[0m in \u001b[0;36m<module>\u001b[0;34m\u001b[0m\n\u001b[1;32m     20\u001b[0m     else : model.pred = dismod_mr.model.predict_for(model, model.parameters[params['type']],\n\u001b[1;32m     21\u001b[0m                                                        \u001b[0;34m'all'\u001b[0m\u001b[0;34m,\u001b[0m \u001b[0;34m'female'\u001b[0m\u001b[0;34m,\u001b[0m \u001b[0;36m2005\u001b[0m\u001b[0;34m,\u001b[0m\u001b[0;34m\u001b[0m\u001b[0;34m\u001b[0m\u001b[0m\n\u001b[0;32m---> 22\u001b[0;31m                                                        'GBR', 'female', 2005, 1., model.vars[params['type']], 0., 1.).T\n\u001b[0m\u001b[1;32m     23\u001b[0m \u001b[0;34m\u001b[0m\u001b[0m\n\u001b[1;32m     24\u001b[0m     \u001b[0mplt\u001b[0m\u001b[0;34m.\u001b[0m\u001b[0mplot\u001b[0m\u001b[0;34m(\u001b[0m\u001b[0mnp\u001b[0m\u001b[0;34m.\u001b[0m\u001b[0marange\u001b[0m\u001b[0;34m(\u001b[0m\u001b[0;36m101\u001b[0m\u001b[0;34m)\u001b[0m\u001b[0;34m,\u001b[0m \u001b[0mmodel\u001b[0m\u001b[0;34m.\u001b[0m\u001b[0mpred\u001b[0m\u001b[0;34m.\u001b[0m\u001b[0mmean\u001b[0m\u001b[0;34m(\u001b[0m\u001b[0maxis\u001b[0m\u001b[0;34m=\u001b[0m\u001b[0;36m1\u001b[0m\u001b[0;34m)\u001b[0m\u001b[0;34m,\u001b[0m \u001b[0;34m'k-'\u001b[0m\u001b[0;34m,\u001b[0m \u001b[0mlinewidth\u001b[0m\u001b[0;34m=\u001b[0m\u001b[0;36m2\u001b[0m\u001b[0;34m,\u001b[0m \u001b[0mlabel\u001b[0m\u001b[0;34m=\u001b[0m\u001b[0;34m'Posterior Mean'\u001b[0m\u001b[0;34m)\u001b[0m\u001b[0;34m\u001b[0m\u001b[0;34m\u001b[0m\u001b[0m\n",
      "\u001b[0;32m~/projects/2019/dismod_mr/dismod_mr/model/covariates.py\u001b[0m in \u001b[0;36mpredict_for\u001b[0;34m(model, parameters, root_area, root_sex, root_year, area, sex, year, population_weighted, vars, lower, upper)\u001b[0m\n\u001b[1;32m    483\u001b[0m \u001b[0;34m\u001b[0m\u001b[0m\n\u001b[1;32m    484\u001b[0m         \u001b[0;31m# add the random effect intercept shift (len_trace draws)\u001b[0m\u001b[0;34m\u001b[0m\u001b[0;34m\u001b[0m\u001b[0;34m\u001b[0m\u001b[0m\n\u001b[0;32m--> 485\u001b[0;31m         \u001b[0mlog_shift_l\u001b[0m \u001b[0;34m+=\u001b[0m \u001b[0mnp\u001b[0m\u001b[0;34m.\u001b[0m\u001b[0mdot\u001b[0m\u001b[0;34m(\u001b[0m\u001b[0malpha_trace\u001b[0m\u001b[0;34m,\u001b[0m \u001b[0mU_l\u001b[0m\u001b[0;34m.\u001b[0m\u001b[0mT\u001b[0m\u001b[0;34m)\u001b[0m\u001b[0;34m.\u001b[0m\u001b[0mflatten\u001b[0m\u001b[0;34m(\u001b[0m\u001b[0;34m)\u001b[0m\u001b[0;34m\u001b[0m\u001b[0;34m\u001b[0m\u001b[0m\n\u001b[0m\u001b[1;32m    486\u001b[0m \u001b[0;34m\u001b[0m\u001b[0m\n\u001b[1;32m    487\u001b[0m         \u001b[0;31m# make X_l\u001b[0m\u001b[0;34m\u001b[0m\u001b[0;34m\u001b[0m\u001b[0;34m\u001b[0m\u001b[0m\n",
      "\u001b[0;31mValueError\u001b[0m: shapes (0,1) and (3,1) not aligned: 1 (dim 1) != 3 (dim 0)"
     ]
    },
    {
     "data": {
      "image/png": "[encoded data removed]",
      "text/plain": [
       "<Figure size 720x432 with 4 Axes>"
      ]
     },
     "metadata": {
      "needs_background": "light"
     },
     "output_type": "display_data"
    }
   ],
   "source": [
    "plt.figure(figsize=(10,6))\n",
    "\n",
    "plt.subplot(2,2,1); dismod_mr.plot.data_bars(model.get_data('p')); plt.xlabel('Age (years)'); plt.ylabel('Prevalence')\n",
    "plt.subplot(2,2,2); dismod_mr.plot.data_bars(model.get_data('i')); plt.xlabel('Age (years)'); plt.ylabel('Incidence')\n",
    "plt.subplot(2,2,3); dismod_mr.plot.data_bars(model.get_data('csmr')); plt.xlabel('Age (years)'); plt.ylabel('Cause-specific mortality')\n",
    "plt.subplot(2,2,4); dismod_mr.plot.data_bars(model.get_data('smr')); plt.xlabel('Age (years)'); plt.ylabel('Standardized \\nmortality ratio')\n",
    "param_list = [dict(type='p', title='(a)', ylabel='Prevalence (%)', yticks=([0, .01, .02], [0, 1, 2]), axis=[30,101,-0.001,.025]),\n",
    "          dict(type='i', title='(b)', ylabel='Incidence \\n(per 1000 PY)', yticks=([0, .001,.002, .003, .004], [0, 1, 2, 3, 4]), axis=[30,104,-.0003,.0055]),\n",
    "          dict(type='pf', title='(c)', ylabel='Cause-specific mortality \\n(per 1000 PY)', yticks=([0, .001,.002], [0, 1, 2]), axis=[30,104,-.0002,.003]),\n",
    "          dict(type='smr', title='(d)', ylabel='Standardized \\nmortality ratio', yticks=([1, 2, 3,4, ], [1, 2,3, 4]), axis=[35,104,.3,4.5]),\n",
    "          ]\n",
    "\n",
    "for i, params in enumerate(param_list):\n",
    "    ax = plt.subplot(2,2,i+1)\n",
    "    if params['type'] == 'pf': dismod_mr.plot.data_bars(model.get_data('csmr'), color='grey')\n",
    "    else: dismod_mr.plot.data_bars(model.get_data(params['type']), color='grey')\n",
    "    \n",
    "    if params['type'] == 'smr': model.pred = dismod_mr.model.predict_for(model, model.parameters.get('smr', {}), 'all', 'female', 2005, \n",
    "                                                               'GBR', 'female', 2005, 1., model.vars['smr'], 0., 100.).T\n",
    "    else : model.pred = dismod_mr.model.predict_for(model, model.parameters[params['type']],\n",
    "                                                       'all', 'female', 2005, \n",
    "                                                       'GBR', 'female', 2005, 1., model.vars[params['type']], 0., 1.).T\n",
    "    \n",
    "    plt.plot(np.arange(101), model.pred.mean(axis=1), 'k-', linewidth=2, label='Posterior Mean')\n",
    "    hpd = mc.utils.hpd(model.pred.T, .05)\n",
    "    plt.plot(np.arange(101), hpd[0], 'k-', linewidth=1, label='95% HPD interval')\n",
    "    plt.plot(np.arange(101), hpd[1], 'k-', linewidth=1)\n",
    "\n",
    "    plt.xlabel('Age (years)')\n",
    "    plt.ylabel(params['ylabel']+'\\n\\n', ha='center')\n",
    "    plt.axis(params.get('axis', [-5,105,-.005,.06]))\n",
    "    plt.yticks(*params.get('yticks', ([0, .025, .05], [0, 2.5, 5])))\n",
    "    plt.title(params['title'])\n",
    "    plt.grid()\n",
    "    \n",
    "plt.subplots_adjust(hspace=.35, wspace=.35, top=.97)"
   ]
  },
  {
   "cell_type": "code",
   "execution_count": 27,
   "metadata": {},
   "outputs": [],
   "source": [
    "p_with = model"
   ]
  },
  {
   "cell_type": "markdown",
   "metadata": {},
   "source": [
    "The most notable difference between the estimates from this model and from the model\n",
    "that used prevalence data only is that this model produces estimates of incidence and\n",
    "mortality in addition to prevalence.  In many cases, the model also produces estimates\n",
    "of the remission rate as well, but there is no remission of PD, so the estimates of zero\n",
    "are not very interesting in this example.  It is another place that informative priors are useful,\n",
    "however.\n",
    "\n",
    "There are also differences between the means and uncertainty intervals estimated by these methods,\n",
    "which show that the additional data is important.  Although the prevalence data alone predicts \n",
    "age-specific prevalence that peaks at 2%, when the incidence and mortality data is also included, the\n",
    "maximum prevalence is a bit lower, closer to 1.5%."
   ]
  },
  {
   "cell_type": "code",
   "execution_count": 28,
   "metadata": {},
   "outputs": [],
   "source": [
    "p1 = dismod_mr.model.predict_for(p_only, model.parameters['p'],\n",
    "                                    'all', 'total', 'all', \n",
    "                                    'GBR', 'female', 2005, 1.,\n",
    "                                    p_only.vars['p'], 0., 1.)\n",
    "\n",
    "p2 = dismod_mr.model.predict_for(p_with, model.parameters['p'],\n",
    "                                    'all', 'total', 'all', \n",
    "                                    'GBR', 'female', 2005, 1.,\n",
    "                                    p_with.vars['p'], 0., 1.)"
   ]
  },
  {
   "cell_type": "code",
   "execution_count": 29,
   "metadata": {},
   "outputs": [
    {
     "name": "stderr",
     "output_type": "stream",
     "text": [
      "/share/code/abie/miniconda3/lib/python3.6/site-packages/ipykernel_launcher.py:2: RuntimeWarning: Mean of empty slice.\n",
      "  \n"
     ]
    },
    {
     "data": {
      "image/png": "[encoded data removed]",
      "text/plain": [
       "<Figure size 432x288 with 1 Axes>"
      ]
     },
     "metadata": {
      "needs_background": "light"
     },
     "output_type": "display_data"
    }
   ],
   "source": [
    "plt.plot(p1.mean(axis=0), 'k--', linewidth=2, label='Only prevalence')\n",
    "plt.plot(p2.mean(axis=0), 'k-', linewidth=2, label='All available')\n",
    "\n",
    "plt.xlabel('Age (years)')\n",
    "plt.ylabel('Prevalence (%)\\n\\n', ha='center')\n",
    "plt.yticks([0, .01, .02], [0, 1, 2])\n",
    "plt.axis([30,101,-0.001,.025])\n",
    "plt.legend(loc='upper left')\n",
    "plt.grid()\n",
    "\n",
    "plt.subplots_adjust(top=.97, bottom=.16)"
   ]
  },
  {
   "cell_type": "markdown",
   "metadata": {},
   "source": [
    "Because the data is so noisy, the differences between the mean estimates of these different models are not significant; the posterior distributions\n",
    "have considerable overlap.  At age 80, for example, the posterior distributions for age-80 prevalence are estimated as the following:"
   ]
  },
  {
   "cell_type": "code",
   "execution_count": 30,
   "metadata": {},
   "outputs": [
    {
     "data": {
      "image/png": "[encoded data removed]",
      "text/plain": [
       "<Figure size 432x288 with 1 Axes>"
      ]
     },
     "metadata": {
      "needs_background": "light"
     },
     "output_type": "display_data"
    }
   ],
   "source": [
    "plt.hist(100*p1[:,80], density=True, histtype='step', label='Only prevalence', linewidth=3, color=np.array([239., 138., 98., 256.])/256)\n",
    "plt.hist(100*p2[:,80], density=True, histtype='step', label='All available', linewidth=3, color=np.array([103, 169, 207, 256.])/256)\n",
    "plt.title('PD prevalence at age 80')\n",
    "plt.xlabel('Prevalence (%)\\n\\n', ha='center')\n",
    "plt.ylabel('Probability Density')\n",
    "plt.legend(loc='upper right')\n",
    "plt.grid()\n",
    "\n",
    "plt.subplots_adjust(bottom=.16)"
   ]
  },
  {
   "cell_type": "markdown",
   "metadata": {},
   "source": [
    "Conclusion\n",
    "==========\n",
    "\n",
    "I hope that this example is a quick way to see the strengths and weaknesses of DisMod-MR.\n",
    "This model is particularly suited for estimating descriptive epidemiology of diseases\n",
    "with sparse, noisy data from multiple, incompatible sources.\n",
    "\n",
    "I am currently working to make it faster, as well as to improve the capabilities for modeling\n",
    "changes between regions over time."
   ]
  },
  {
   "cell_type": "code",
   "execution_count": 31,
   "metadata": {},
   "outputs": [
    {
     "name": "stdout",
     "output_type": "stream",
     "text": [
      "Fri Jun 14 07:31:09 PDT 2019\r\n"
     ]
    }
   ],
   "source": [
    "!date"
   ]
  },
  {
   "cell_type": "code",
   "execution_count": null,
   "metadata": {},
   "outputs": [],
   "source": []
  }
 ],
 "metadata": {
  "kernelspec": {
   "display_name": "Python 3",
   "language": "python",
   "name": "python3"
  },
  "language_info": {
   "codemirror_mode": {
    "name": "ipython",
    "version": 3
   },
   "file_extension": ".py",
   "mimetype": "text/x-python",
   "name": "python",
   "nbconvert_exporter": "python",
   "pygments_lexer": "ipython3",
   "version": "3.6.7"
  }
 },
 "nbformat": 4,
 "nbformat_minor": 1
}
