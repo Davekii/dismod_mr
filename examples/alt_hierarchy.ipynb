{
 "cells": [
  {
   "cell_type": "markdown",
   "metadata": {},
   "source": [
    "# Setting the hierarchy in DisMod-MR\n",
    "\n",
    "The goal of this document is to demonstrate how to set the spatial hierarchy for the random effects in DisMod-MR.\n",
    "\n",
    "The examples are based on a spatial hierarchy of Japan, provided by Ver Bilano, and included in the examples directory."
   ]
  },
  {
   "cell_type": "code",
   "execution_count": 1,
   "metadata": {},
   "outputs": [],
   "source": [
    "import dismod_mr, numpy as np, pandas as pd"
   ]
  },
  {
   "cell_type": "code",
   "execution_count": 2,
   "metadata": {},
   "outputs": [],
   "source": [
    "df = pd.read_csv('hierarchy.csv')"
   ]
  },
  {
   "cell_type": "code",
   "execution_count": 3,
   "metadata": {},
   "outputs": [
    {
     "data": {
      "text/html": [
       "<div>\n",
       "<style scoped>\n",
       "    .dataframe tbody tr th:only-of-type {\n",
       "        vertical-align: middle;\n",
       "    }\n",
       "\n",
       "    .dataframe tbody tr th {\n",
       "        vertical-align: top;\n",
       "    }\n",
       "\n",
       "    .dataframe thead th {\n",
       "        text-align: right;\n",
       "    }\n",
       "</style>\n",
       "<table border=\"1\" class=\"dataframe\">\n",
       "  <thead>\n",
       "    <tr style=\"text-align: right;\">\n",
       "      <th></th>\n",
       "      <th>Prefecture</th>\n",
       "      <th>Region</th>\n",
       "      <th>Population</th>\n",
       "    </tr>\n",
       "  </thead>\n",
       "  <tbody>\n",
       "    <tr>\n",
       "      <th>0</th>\n",
       "      <td>Aichi</td>\n",
       "      <td>Chubu</td>\n",
       "      <td>7,043,235</td>\n",
       "    </tr>\n",
       "    <tr>\n",
       "      <th>1</th>\n",
       "      <td>Akita</td>\n",
       "      <td>Tohoku</td>\n",
       "      <td>1,189,215</td>\n",
       "    </tr>\n",
       "    <tr>\n",
       "      <th>2</th>\n",
       "      <td>Aomori</td>\n",
       "      <td>Tohoku</td>\n",
       "      <td>1,475,635</td>\n",
       "    </tr>\n",
       "    <tr>\n",
       "      <th>3</th>\n",
       "      <td>Chiba</td>\n",
       "      <td>Kanto</td>\n",
       "      <td>5,926,349</td>\n",
       "    </tr>\n",
       "    <tr>\n",
       "      <th>4</th>\n",
       "      <td>Ehime</td>\n",
       "      <td>Shikoku</td>\n",
       "      <td>1,493,126</td>\n",
       "    </tr>\n",
       "  </tbody>\n",
       "</table>\n",
       "</div>"
      ],
      "text/plain": [
       "  Prefecture   Region Population\n",
       "0      Aichi    Chubu  7,043,235\n",
       "1      Akita   Tohoku  1,189,215\n",
       "2     Aomori   Tohoku  1,475,635\n",
       "3      Chiba    Kanto  5,926,349\n",
       "4      Ehime  Shikoku  1,493,126"
      ]
     },
     "execution_count": 3,
     "metadata": {},
     "output_type": "execute_result"
    }
   ],
   "source": [
    "df.head()"
   ]
  },
  {
   "cell_type": "markdown",
   "metadata": {},
   "source": [
    "First, we will use simulation to generate $n$ rows of input data."
   ]
  },
  {
   "cell_type": "code",
   "execution_count": 4,
   "metadata": {},
   "outputs": [],
   "source": [
    "import random"
   ]
  },
  {
   "cell_type": "code",
   "execution_count": null,
   "metadata": {},
   "outputs": [],
   "source": [
    "n = 100\n",
    "\n",
    "dm = dismod_mr.data.ModelData()\n",
    "inp = pd.DataFrame(columns=dm.input_data, index=range(n))\n",
    "\n",
    "# data type, value, and uncertainty\n",
    "inp['data_type'] = 'p'\n",
    "inp['value'] = .5 + .1*np.random.randn(n)\n",
    "inp['effective_sample_size'] = 1000.\n",
    "\n",
    "# geographic information (to be used for random effects)\n",
    "inp['area'] = [random.choice(df.Prefecture) for i in range(n)]\n",
    "\n",
    "inp['sex'] = 'total'\n",
    "inp['age_start'] = 50\n",
    "inp['age_end'] = 50\n",
    "\n",
    "inp['standard_error'] = np.nan\n",
    "inp['upper_ci'] = np.nan\n",
    "inp['lower_ci'] = np.nan\n",
    "\n",
    "# put data in model\n",
    "dm.input_data = inp"
   ]
  },
  {
   "cell_type": "code",
   "execution_count": null,
   "metadata": {},
   "outputs": [],
   "source": [
    "# set model parameters for simple fit\n",
    "dm.parameters['p'] = {'level_value': {'age_after': 100, 'age_before': 1, 'value': 0.},\n",
    "                      'parameter_age_mesh': [0, 100]}"
   ]
  },
  {
   "cell_type": "markdown",
   "metadata": {},
   "source": [
    "The following code generates a single level hierarchy, with all prefectures below the national level:"
   ]
  },
  {
   "cell_type": "code",
   "execution_count": null,
   "metadata": {},
   "outputs": [],
   "source": [
    "for p in df.Prefecture:\n",
    "    dm.hierarchy.add_edge('all', p)"
   ]
  },
  {
   "cell_type": "markdown",
   "metadata": {},
   "source": [
    "That is all there is to it!"
   ]
  },
  {
   "cell_type": "code",
   "execution_count": null,
   "metadata": {},
   "outputs": [
    {
     "name": "stdout",
     "output_type": "stream",
     "text": [
      "finding initial values\n"
     ]
    },
    {
     "name": "stderr",
     "output_type": "stream",
     "text": [
      "/ihme/homes/abie/projects/2019/dismod_mr/dismod_mr/model/covariates.py:84: FutureWarning: 'select' is deprecated and will be removed in a future release. You can use .loc[labels.map(crit)] as a replacement\n",
      "  U = U.select(lambda col: (U[col].max() > 0) and (model.hierarchy.node[col].get('level') > model.hierarchy.node[root_area]['level']), axis=1)  # drop columns with only zeros and which are for higher levels in hierarchy\n",
      "/ihme/homes/abie/projects/2019/dismod_mr/dismod_mr/model/covariates.py:98: FutureWarning: 'select' is deprecated and will be removed in a future release. You can use .loc[labels.map(crit)] as a replacement\n",
      "  U = U.select(lambda col: 1 <= U[col].sum() < len(U[col]) or col in keep, axis=1)\n",
      "/ihme/homes/abie/projects/2019/dismod_mr/dismod_mr/model/covariates.py:187: FutureWarning: 'select' is deprecated and will be removed in a future release. You can use .loc[labels.map(crit)] as a replacement\n",
      "  X = input_data.select(lambda col: col.startswith('x_'), axis=1)\n",
      "/ihme/homes/abie/projects/2019/dismod_mr/dismod_mr/model/covariates.py:273: FutureWarning: 'select' is deprecated and will be removed in a future release. You can use .loc[labels.map(crit)] as a replacement\n",
      "  Z = input_data.select(lambda col: col.startswith('z_'), axis=1)\n",
      "/ihme/homes/abie/projects/2019/dismod_mr/dismod_mr/model/covariates.py:274: FutureWarning: 'select' is deprecated and will be removed in a future release. You can use .loc[labels.map(crit)] as a replacement\n",
      "  Z = Z.select(lambda col: Z[col].std() > 0, 1)  # drop blank cols\n"
     ]
    },
    {
     "name": "stdout",
     "output_type": "stream",
     "text": [
      ". . . \n",
      "finding MAP estimate\n",
      "\n",
      "finding step covariances estimate\n",
      "\n",
      "resetting initial values (1)\n",
      ". . . \n",
      "resetting initial values (2)\n",
      "\n",
      "mare: 0.12\n",
      "sampling from posterior\n",
      "\n"
     ]
    }
   ],
   "source": [
    "dm.vars = dismod_mr.model.asr(dm, 'p', rate_type='neg_binom')\n",
    "%time dismod_mr.fit.asr(dm, 'p', iter=10000, burn=5000, thin=5)"
   ]
  },
  {
   "cell_type": "code",
   "execution_count": null,
   "metadata": {},
   "outputs": [],
   "source": [
    "\n",
    "%load_ext autoreload\n",
    "%autoreload 2"
   ]
  },
  {
   "cell_type": "code",
   "execution_count": null,
   "metadata": {
    "scrolled": false
   },
   "outputs": [],
   "source": [
    "dismod_mr.plot.effects(dm, 'p', figsize=(18,10))"
   ]
  },
  {
   "cell_type": "markdown",
   "metadata": {},
   "source": [
    "To use a two-level hierarchy instead, simply build the regions into the hierarchy graph:"
   ]
  },
  {
   "cell_type": "code",
   "execution_count": null,
   "metadata": {},
   "outputs": [],
   "source": [
    "dm = dismod_mr.data.ModelData()\n",
    "dm.input_data = inp\n",
    "dm.parameters['p'] = {'level_value': {'age_after': 100, 'age_before': 1, 'value': 0.},\n",
    "                      'parameter_age_mesh': [0, 100]}"
   ]
  },
  {
   "cell_type": "code",
   "execution_count": null,
   "metadata": {},
   "outputs": [],
   "source": [
    "for i, row in df.iterrows():\n",
    "    dm.hierarchy.add_edge('all', row['Region'])\n",
    "    dm.hierarchy.add_edge(row['Region'], row['Prefecture'])"
   ]
  },
  {
   "cell_type": "code",
   "execution_count": null,
   "metadata": {},
   "outputs": [],
   "source": [
    "dm.vars = dismod_mr.model.asr(dm, 'p', rate_type='neg_binom')\n",
    "%time dismod_mr.fit.asr(dm, 'p', iter=10000, burn=5000, thin=5)"
   ]
  },
  {
   "cell_type": "code",
   "execution_count": null,
   "metadata": {},
   "outputs": [],
   "source": [
    "dismod_mr.plot.effects(dm, 'p', figsize=(18,14))"
   ]
  },
  {
   "cell_type": "markdown",
   "metadata": {},
   "source": [
    "It would be great to extend this example so that the results differed in a meaningful way when using one- and two-level hierarchical models.  This is left as an exercise to the reader."
   ]
  },
  {
   "cell_type": "code",
   "execution_count": null,
   "metadata": {},
   "outputs": [],
   "source": [
    "!date"
   ]
  }
 ],
 "metadata": {
  "kernelspec": {
   "display_name": "Python 3",
   "language": "python",
   "name": "python3"
  },
  "language_info": {
   "codemirror_mode": {
    "name": "ipython",
    "version": 3
   },
   "file_extension": ".py",
   "mimetype": "text/x-python",
   "name": "python",
   "nbconvert_exporter": "python",
   "pygments_lexer": "ipython3",
   "version": "3.6.7"
  }
 },
 "nbformat": 4,
 "nbformat_minor": 1
}
