{
 "cells": [
  {
   "cell_type": "code",
   "execution_count": 1,
   "metadata": {},
   "outputs": [
    {
     "name": "stdout",
     "output_type": "stream",
     "text": [
      "Wed Jul 17 15:31:03 PDT 2019\r\n"
     ]
    }
   ],
   "source": [
    "import numpy as np, matplotlib.pyplot as plt, pandas as pd\n",
    "pd.set_option('display.max_rows', 10)\n",
    "!date\n",
    "\n",
    "%load_ext autoreload\n",
    "%autoreload 2"
   ]
  },
  {
   "cell_type": "markdown",
   "metadata": {},
   "source": [
    "# Consistent models in DisMod-MR from Vivarium artifact draw\n",
    "\n",
    "Take i, r, f, p from a Vivarium artifact, and make a consistent version of them.  See how it compares to the original."
   ]
  },
  {
   "cell_type": "code",
   "execution_count": 2,
   "metadata": {},
   "outputs": [],
   "source": [
    "np.random.seed(123456)"
   ]
  },
  {
   "cell_type": "code",
   "execution_count": 3,
   "metadata": {},
   "outputs": [],
   "source": [
    "# if dismod_mr is not installed, it should possible to use\n",
    "# pip install dismod_mr"
   ]
  },
  {
   "cell_type": "code",
   "execution_count": 4,
   "metadata": {},
   "outputs": [],
   "source": [
    "import dismod_mr"
   ]
  },
  {
   "cell_type": "code",
   "execution_count": 5,
   "metadata": {},
   "outputs": [],
   "source": [
    "import vivarium_public_health"
   ]
  },
  {
   "cell_type": "markdown",
   "metadata": {},
   "source": [
    "# Consistent fit with all data\n",
    "\n",
    "Let's start with a consistent fit of the simulated PD data.  This includes data on prevalence, incidence, and SMR, and the assumption that remission rate is zero.  All together this counts as four different data types in the DisMod-II accounting."
   ]
  },
  {
   "cell_type": "code",
   "execution_count": 6,
   "metadata": {
    "scrolled": true
   },
   "outputs": [],
   "source": [
    "from vivarium_public_health.dataset_manager import Artifact\n",
    "art = Artifact('/share/costeffectiveness/artifacts/obesity/obesity.hdf')"
   ]
  },
  {
   "cell_type": "code",
   "execution_count": 7,
   "metadata": {
    "scrolled": true
   },
   "outputs": [
    {
     "data": {
      "text/plain": [
       "[EntityKey(metadata.keyspace),\n",
       " EntityKey(metadata.versions),\n",
       " EntityKey(metadata.locations),\n",
       " EntityKey(population.demographic_dimensions),\n",
       " EntityKey(population.structure),\n",
       " EntityKey(cause.all_causes.cause_specific_mortality),\n",
       " EntityKey(population.theoretical_minimum_risk_life_expectancy),\n",
       " EntityKey(cause.ischemic_heart_disease.restrictions),\n",
       " EntityKey(cause.ischemic_stroke.restrictions),\n",
       " EntityKey(cause.diabetes_mellitus_type_2.restrictions),\n",
       " EntityKey(cause.asthma.restrictions),\n",
       " EntityKey(cause.gout.restrictions),\n",
       " EntityKey(cause.osteoarthritis.restrictions),\n",
       " EntityKey(cause.chronic_kidney_disease_due_to_hypertension.restrictions),\n",
       " EntityKey(cause.chronic_kidney_disease_due_to_glomerulonephritis.restrictions),\n",
       " EntityKey(cause.chronic_kidney_disease_due_to_other_and_unspecified_causes.restrictions),\n",
       " EntityKey(cause.chronic_kidney_disease_due_to_diabetes_mellitus_type_2.restrictions),\n",
       " EntityKey(risk_factor.high_body_mass_index_in_adults.exposure),\n",
       " EntityKey(risk_factor.high_body_mass_index_in_adults.distribution),\n",
       " EntityKey(risk_factor.high_body_mass_index_in_adults.exposure_standard_deviation),\n",
       " EntityKey(risk_factor.high_body_mass_index_in_adults.exposure_distribution_weights),\n",
       " EntityKey(risk_factor.high_body_mass_index_in_adults.population_attributable_fraction),\n",
       " EntityKey(risk_factor.high_body_mass_index_in_adults.tmred),\n",
       " EntityKey(risk_factor.high_body_mass_index_in_adults.relative_risk_scalar),\n",
       " EntityKey(population.age_bins),\n",
       " EntityKey(healthcare_entity.outpatient_visits.utilization),\n",
       " EntityKey(healthcare_entity.inpatient_visits.cost),\n",
       " EntityKey(healthcare_entity.outpatient_visits.cost),\n",
       " EntityKey(cause.ischemic_heart_disease.cause_specific_mortality),\n",
       " EntityKey(cause.ischemic_stroke.cause_specific_mortality),\n",
       " EntityKey(cause.diabetes_mellitus_type_2.cause_specific_mortality),\n",
       " EntityKey(cause.asthma.cause_specific_mortality),\n",
       " EntityKey(cause.chronic_kidney_disease_due_to_hypertension.cause_specific_mortality),\n",
       " EntityKey(cause.chronic_kidney_disease_due_to_glomerulonephritis.cause_specific_mortality),\n",
       " EntityKey(cause.chronic_kidney_disease_due_to_other_and_unspecified_causes.cause_specific_mortality),\n",
       " EntityKey(cause.chronic_kidney_disease_due_to_diabetes_mellitus_type_2.cause_specific_mortality),\n",
       " EntityKey(cause.ischemic_heart_disease.prevalence),\n",
       " EntityKey(cause.ischemic_heart_disease.disability_weight),\n",
       " EntityKey(cause.ischemic_heart_disease.excess_mortality),\n",
       " EntityKey(cause.ischemic_stroke.prevalence),\n",
       " EntityKey(cause.ischemic_stroke.disability_weight),\n",
       " EntityKey(cause.ischemic_stroke.excess_mortality),\n",
       " EntityKey(cause.diabetes_mellitus_type_2.prevalence),\n",
       " EntityKey(cause.diabetes_mellitus_type_2.disability_weight),\n",
       " EntityKey(cause.diabetes_mellitus_type_2.excess_mortality),\n",
       " EntityKey(cause.asthma.prevalence),\n",
       " EntityKey(cause.asthma.disability_weight),\n",
       " EntityKey(cause.asthma.excess_mortality),\n",
       " EntityKey(cause.gout.prevalence),\n",
       " EntityKey(cause.gout.disability_weight),\n",
       " EntityKey(cause.osteoarthritis.prevalence),\n",
       " EntityKey(cause.osteoarthritis.disability_weight),\n",
       " EntityKey(cause.chronic_kidney_disease_due_to_hypertension.prevalence),\n",
       " EntityKey(cause.chronic_kidney_disease_due_to_hypertension.disability_weight),\n",
       " EntityKey(cause.chronic_kidney_disease_due_to_hypertension.excess_mortality),\n",
       " EntityKey(cause.chronic_kidney_disease_due_to_glomerulonephritis.prevalence),\n",
       " EntityKey(cause.chronic_kidney_disease_due_to_glomerulonephritis.disability_weight),\n",
       " EntityKey(cause.chronic_kidney_disease_due_to_glomerulonephritis.excess_mortality),\n",
       " EntityKey(cause.chronic_kidney_disease_due_to_other_and_unspecified_causes.prevalence),\n",
       " EntityKey(cause.chronic_kidney_disease_due_to_other_and_unspecified_causes.disability_weight),\n",
       " EntityKey(cause.chronic_kidney_disease_due_to_other_and_unspecified_causes.excess_mortality),\n",
       " EntityKey(cause.chronic_kidney_disease_due_to_diabetes_mellitus_type_2.prevalence),\n",
       " EntityKey(cause.chronic_kidney_disease_due_to_diabetes_mellitus_type_2.disability_weight),\n",
       " EntityKey(cause.chronic_kidney_disease_due_to_diabetes_mellitus_type_2.excess_mortality),\n",
       " EntityKey(cause.ischemic_heart_disease.incidence),\n",
       " EntityKey(cause.ischemic_stroke.incidence),\n",
       " EntityKey(cause.diabetes_mellitus_type_2.incidence),\n",
       " EntityKey(cause.asthma.incidence),\n",
       " EntityKey(cause.gout.incidence),\n",
       " EntityKey(cause.osteoarthritis.incidence),\n",
       " EntityKey(cause.chronic_kidney_disease_due_to_hypertension.incidence),\n",
       " EntityKey(cause.chronic_kidney_disease_due_to_glomerulonephritis.incidence),\n",
       " EntityKey(cause.chronic_kidney_disease_due_to_other_and_unspecified_causes.incidence),\n",
       " EntityKey(cause.chronic_kidney_disease_due_to_diabetes_mellitus_type_2.incidence),\n",
       " EntityKey(risk_factor.high_body_mass_index_in_adults.relative_risk)]"
      ]
     },
     "execution_count": 7,
     "metadata": {},
     "output_type": "execute_result"
    }
   ],
   "source": [
    "art.keys"
   ]
  },
  {
   "cell_type": "code",
   "execution_count": 8,
   "metadata": {},
   "outputs": [],
   "source": [
    "def format_for_dismod(df, data_type):\n",
    "    df = df.query('draw==0 and sex==\"Female\" and year_start==2017').copy()\n",
    "    df['data_type'] = data_type\n",
    "    df['area'] = 'all'\n",
    "    df['standard_error'] = 0.001\n",
    "    df['upper_ci'] = np.nan\n",
    "    df['lower_ci'] = np.nan\n",
    "    df['effective_sample_size'] = 10_000\n",
    "\n",
    "    df['sex'] = 'total'\n",
    "    df = df.rename({'age_group_start': 'age_start',\n",
    "                                     'age_group_end': 'age_end',}, axis=1)\n",
    "    return df\n",
    "\n",
    "p = format_for_dismod(art.load('cause.ischemic_heart_disease.prevalence'), 'p')"
   ]
  },
  {
   "cell_type": "code",
   "execution_count": 9,
   "metadata": {
    "scrolled": false
   },
   "outputs": [],
   "source": [
    "i = format_for_dismod(art.load('cause.ischemic_heart_disease.incidence'), 'i')"
   ]
  },
  {
   "cell_type": "code",
   "execution_count": 10,
   "metadata": {},
   "outputs": [],
   "source": [
    "f = format_for_dismod(art.load('cause.ischemic_heart_disease.excess_mortality'), 'f')"
   ]
  },
  {
   "cell_type": "code",
   "execution_count": 11,
   "metadata": {},
   "outputs": [],
   "source": [
    "m_all = format_for_dismod(art.load('cause.all_causes.cause_specific_mortality'), 'm_all')"
   ]
  },
  {
   "cell_type": "code",
   "execution_count": 12,
   "metadata": {},
   "outputs": [],
   "source": [
    "csmr = format_for_dismod(art.load('cause.ischemic_heart_disease.cause_specific_mortality'), 'csmr') # could also try 'pf'"
   ]
  },
  {
   "cell_type": "code",
   "execution_count": 13,
   "metadata": {},
   "outputs": [
    {
     "data": {
      "text/html": [
       "<div>\n",
       "<style scoped>\n",
       "    .dataframe tbody tr th:only-of-type {\n",
       "        vertical-align: middle;\n",
       "    }\n",
       "\n",
       "    .dataframe tbody tr th {\n",
       "        vertical-align: top;\n",
       "    }\n",
       "\n",
       "    .dataframe thead th {\n",
       "        text-align: right;\n",
       "    }\n",
       "</style>\n",
       "<table border=\"1\" class=\"dataframe\">\n",
       "  <thead>\n",
       "    <tr style=\"text-align: right;\">\n",
       "      <th></th>\n",
       "      <th>draw</th>\n",
       "      <th>location</th>\n",
       "      <th>sex</th>\n",
       "      <th>age_start</th>\n",
       "      <th>age_end</th>\n",
       "      <th>year_start</th>\n",
       "      <th>year_end</th>\n",
       "      <th>value</th>\n",
       "      <th>data_type</th>\n",
       "      <th>area</th>\n",
       "      <th>standard_error</th>\n",
       "      <th>upper_ci</th>\n",
       "      <th>lower_ci</th>\n",
       "      <th>effective_sample_size</th>\n",
       "    </tr>\n",
       "  </thead>\n",
       "  <tbody>\n",
       "    <tr>\n",
       "      <th>27</th>\n",
       "      <td>0</td>\n",
       "      <td>United States</td>\n",
       "      <td>total</td>\n",
       "      <td>0.000000</td>\n",
       "      <td>0.019178</td>\n",
       "      <td>2017</td>\n",
       "      <td>2018</td>\n",
       "      <td>0.000000</td>\n",
       "      <td>p</td>\n",
       "      <td>all</td>\n",
       "      <td>0.01</td>\n",
       "      <td>NaN</td>\n",
       "      <td>NaN</td>\n",
       "      <td>10000</td>\n",
       "    </tr>\n",
       "    <tr>\n",
       "      <th>55</th>\n",
       "      <td>0</td>\n",
       "      <td>United States</td>\n",
       "      <td>total</td>\n",
       "      <td>0.019178</td>\n",
       "      <td>0.076712</td>\n",
       "      <td>2017</td>\n",
       "      <td>2018</td>\n",
       "      <td>0.000000</td>\n",
       "      <td>p</td>\n",
       "      <td>all</td>\n",
       "      <td>0.01</td>\n",
       "      <td>NaN</td>\n",
       "      <td>NaN</td>\n",
       "      <td>10000</td>\n",
       "    </tr>\n",
       "    <tr>\n",
       "      <th>83</th>\n",
       "      <td>0</td>\n",
       "      <td>United States</td>\n",
       "      <td>total</td>\n",
       "      <td>0.076712</td>\n",
       "      <td>1.000000</td>\n",
       "      <td>2017</td>\n",
       "      <td>2018</td>\n",
       "      <td>0.000000</td>\n",
       "      <td>p</td>\n",
       "      <td>all</td>\n",
       "      <td>0.01</td>\n",
       "      <td>NaN</td>\n",
       "      <td>NaN</td>\n",
       "      <td>10000</td>\n",
       "    </tr>\n",
       "    <tr>\n",
       "      <th>111</th>\n",
       "      <td>0</td>\n",
       "      <td>United States</td>\n",
       "      <td>total</td>\n",
       "      <td>1.000000</td>\n",
       "      <td>5.000000</td>\n",
       "      <td>2017</td>\n",
       "      <td>2018</td>\n",
       "      <td>0.000000</td>\n",
       "      <td>p</td>\n",
       "      <td>all</td>\n",
       "      <td>0.01</td>\n",
       "      <td>NaN</td>\n",
       "      <td>NaN</td>\n",
       "      <td>10000</td>\n",
       "    </tr>\n",
       "    <tr>\n",
       "      <th>139</th>\n",
       "      <td>0</td>\n",
       "      <td>United States</td>\n",
       "      <td>total</td>\n",
       "      <td>5.000000</td>\n",
       "      <td>10.000000</td>\n",
       "      <td>2017</td>\n",
       "      <td>2018</td>\n",
       "      <td>0.000000</td>\n",
       "      <td>p</td>\n",
       "      <td>all</td>\n",
       "      <td>0.01</td>\n",
       "      <td>NaN</td>\n",
       "      <td>NaN</td>\n",
       "      <td>10000</td>\n",
       "    </tr>\n",
       "    <tr>\n",
       "      <th>...</th>\n",
       "      <td>...</td>\n",
       "      <td>...</td>\n",
       "      <td>...</td>\n",
       "      <td>...</td>\n",
       "      <td>...</td>\n",
       "      <td>...</td>\n",
       "      <td>...</td>\n",
       "      <td>...</td>\n",
       "      <td>...</td>\n",
       "      <td>...</td>\n",
       "      <td>...</td>\n",
       "      <td>...</td>\n",
       "      <td>...</td>\n",
       "      <td>...</td>\n",
       "    </tr>\n",
       "    <tr>\n",
       "      <th>531</th>\n",
       "      <td>0</td>\n",
       "      <td>United States</td>\n",
       "      <td>total</td>\n",
       "      <td>75.000000</td>\n",
       "      <td>80.000000</td>\n",
       "      <td>2017</td>\n",
       "      <td>2018</td>\n",
       "      <td>0.105724</td>\n",
       "      <td>p</td>\n",
       "      <td>all</td>\n",
       "      <td>0.01</td>\n",
       "      <td>NaN</td>\n",
       "      <td>NaN</td>\n",
       "      <td>10000</td>\n",
       "    </tr>\n",
       "    <tr>\n",
       "      <th>559</th>\n",
       "      <td>0</td>\n",
       "      <td>United States</td>\n",
       "      <td>total</td>\n",
       "      <td>80.000000</td>\n",
       "      <td>85.000000</td>\n",
       "      <td>2017</td>\n",
       "      <td>2018</td>\n",
       "      <td>0.130353</td>\n",
       "      <td>p</td>\n",
       "      <td>all</td>\n",
       "      <td>0.01</td>\n",
       "      <td>NaN</td>\n",
       "      <td>NaN</td>\n",
       "      <td>10000</td>\n",
       "    </tr>\n",
       "    <tr>\n",
       "      <th>587</th>\n",
       "      <td>0</td>\n",
       "      <td>United States</td>\n",
       "      <td>total</td>\n",
       "      <td>85.000000</td>\n",
       "      <td>90.000000</td>\n",
       "      <td>2017</td>\n",
       "      <td>2018</td>\n",
       "      <td>0.139944</td>\n",
       "      <td>p</td>\n",
       "      <td>all</td>\n",
       "      <td>0.01</td>\n",
       "      <td>NaN</td>\n",
       "      <td>NaN</td>\n",
       "      <td>10000</td>\n",
       "    </tr>\n",
       "    <tr>\n",
       "      <th>615</th>\n",
       "      <td>0</td>\n",
       "      <td>United States</td>\n",
       "      <td>total</td>\n",
       "      <td>90.000000</td>\n",
       "      <td>95.000000</td>\n",
       "      <td>2017</td>\n",
       "      <td>2018</td>\n",
       "      <td>0.114865</td>\n",
       "      <td>p</td>\n",
       "      <td>all</td>\n",
       "      <td>0.01</td>\n",
       "      <td>NaN</td>\n",
       "      <td>NaN</td>\n",
       "      <td>10000</td>\n",
       "    </tr>\n",
       "    <tr>\n",
       "      <th>643</th>\n",
       "      <td>0</td>\n",
       "      <td>United States</td>\n",
       "      <td>total</td>\n",
       "      <td>95.000000</td>\n",
       "      <td>125.000000</td>\n",
       "      <td>2017</td>\n",
       "      <td>2018</td>\n",
       "      <td>0.121502</td>\n",
       "      <td>p</td>\n",
       "      <td>all</td>\n",
       "      <td>0.01</td>\n",
       "      <td>NaN</td>\n",
       "      <td>NaN</td>\n",
       "      <td>10000</td>\n",
       "    </tr>\n",
       "  </tbody>\n",
       "</table>\n",
       "<p>23 rows × 14 columns</p>\n",
       "</div>"
      ],
      "text/plain": [
       "     draw       location    sex  age_start     age_end  year_start  year_end  \\\n",
       "27      0  United States  total   0.000000    0.019178        2017      2018   \n",
       "55      0  United States  total   0.019178    0.076712        2017      2018   \n",
       "83      0  United States  total   0.076712    1.000000        2017      2018   \n",
       "111     0  United States  total   1.000000    5.000000        2017      2018   \n",
       "139     0  United States  total   5.000000   10.000000        2017      2018   \n",
       "..    ...            ...    ...        ...         ...         ...       ...   \n",
       "531     0  United States  total  75.000000   80.000000        2017      2018   \n",
       "559     0  United States  total  80.000000   85.000000        2017      2018   \n",
       "587     0  United States  total  85.000000   90.000000        2017      2018   \n",
       "615     0  United States  total  90.000000   95.000000        2017      2018   \n",
       "643     0  United States  total  95.000000  125.000000        2017      2018   \n",
       "\n",
       "        value data_type area  standard_error  upper_ci  lower_ci  \\\n",
       "27   0.000000         p  all            0.01       NaN       NaN   \n",
       "55   0.000000         p  all            0.01       NaN       NaN   \n",
       "83   0.000000         p  all            0.01       NaN       NaN   \n",
       "111  0.000000         p  all            0.01       NaN       NaN   \n",
       "139  0.000000         p  all            0.01       NaN       NaN   \n",
       "..        ...       ...  ...             ...       ...       ...   \n",
       "531  0.105724         p  all            0.01       NaN       NaN   \n",
       "559  0.130353         p  all            0.01       NaN       NaN   \n",
       "587  0.139944         p  all            0.01       NaN       NaN   \n",
       "615  0.114865         p  all            0.01       NaN       NaN   \n",
       "643  0.121502         p  all            0.01       NaN       NaN   \n",
       "\n",
       "     effective_sample_size  \n",
       "27                   10000  \n",
       "55                   10000  \n",
       "83                   10000  \n",
       "111                  10000  \n",
       "139                  10000  \n",
       "..                     ...  \n",
       "531                  10000  \n",
       "559                  10000  \n",
       "587                  10000  \n",
       "615                  10000  \n",
       "643                  10000  \n",
       "\n",
       "[23 rows x 14 columns]"
      ]
     },
     "execution_count": 13,
     "metadata": {},
     "output_type": "execute_result"
    }
   ],
   "source": [
    "p.standard_error *= 10\n",
    "p"
   ]
  },
  {
   "cell_type": "code",
   "execution_count": 14,
   "metadata": {},
   "outputs": [],
   "source": [
    "f.standard_error *= 10"
   ]
  },
  {
   "cell_type": "code",
   "execution_count": 15,
   "metadata": {},
   "outputs": [],
   "source": [
    "i.standard_error *= 10"
   ]
  },
  {
   "cell_type": "code",
   "execution_count": 16,
   "metadata": {},
   "outputs": [],
   "source": [
    "dm = dismod_mr.data.ModelData()\n",
    "dm.input_data = pd.concat([p, i, f, m_all,\n",
    "                          csmr\n",
    "                          ], ignore_index=True)\n",
    "for rate_type in 'ifr':\n",
    "    dm.set_knots(rate_type, [0,40,60,80,90,100])\n",
    "\n",
    "dm.set_level_value('i', age_before=30, age_after=101, value=0)\n",
    "dm.set_increasing('i', age_start=50, age_end=100)\n",
    "\n",
    "dm.set_level_value('p', value=0, age_before=30, age_after=101)\n",
    "\n",
    "dm.set_level_value('r', value=0, age_before=100, age_after=101)\n",
    "# d.hierarchy, d.output_template = data_simulation.small_output()\n"
   ]
  },
  {
   "cell_type": "code",
   "execution_count": 17,
   "metadata": {},
   "outputs": [
    {
     "data": {
      "text/plain": [
       "m_all    23\n",
       "csmr     23\n",
       "p        23\n",
       "i        23\n",
       "f        23\n",
       "Name: data_type, dtype: int64"
      ]
     },
     "execution_count": 17,
     "metadata": {},
     "output_type": "execute_result"
    }
   ],
   "source": [
    "dm.input_data.data_type.value_counts()"
   ]
  },
  {
   "cell_type": "code",
   "execution_count": 18,
   "metadata": {
    "scrolled": true
   },
   "outputs": [
    {
     "name": "stderr",
     "output_type": "stream",
     "text": [
      "/ihme/homes/abie/projects/2019/dismod_mr/src/dismod_mr/model/covariates.py:85: FutureWarning: 'select' is deprecated and will be removed in a future release. You can use .loc[labels.map(crit)] as a replacement\n",
      "  U = U.select(lambda col: (U[col].max() > 0) and (model.hierarchy.node[col].get('level') > model.hierarchy.node[root_area]['level']), axis=1)  # drop columns with only zeros and which are for higher levels in hierarchy\n",
      "/ihme/homes/abie/projects/2019/dismod_mr/src/dismod_mr/model/covariates.py:99: FutureWarning: 'select' is deprecated and will be removed in a future release. You can use .loc[labels.map(crit)] as a replacement\n",
      "  U = U.select(lambda col: 1 <= U[col].sum() < len(U[col]) or col in keep, axis=1)\n",
      "/ihme/homes/abie/projects/2019/dismod_mr/src/dismod_mr/model/covariates.py:187: FutureWarning: 'select' is deprecated and will be removed in a future release. You can use .loc[labels.map(crit)] as a replacement\n",
      "  X = input_data.select(lambda col: col.startswith('x_'), axis=1)\n",
      "/ihme/homes/abie/miniconda3/lib/python3.6/site-packages/pandas/core/indexing.py:543: SettingWithCopyWarning: \n",
      "A value is trying to be set on a copy of a slice from a DataFrame.\n",
      "Try using .loc[row_indexer,col_indexer] = value instead\n",
      "\n",
      "See the caveats in the documentation: http://pandas.pydata.org/pandas-docs/stable/indexing.html#indexing-view-versus-copy\n",
      "  self.obj[item] = s\n",
      "/ihme/homes/abie/projects/2019/dismod_mr/src/dismod_mr/model/covariates.py:85: FutureWarning: 'select' is deprecated and will be removed in a future release. You can use .loc[labels.map(crit)] as a replacement\n",
      "  U = U.select(lambda col: (U[col].max() > 0) and (model.hierarchy.node[col].get('level') > model.hierarchy.node[root_area]['level']), axis=1)  # drop columns with only zeros and which are for higher levels in hierarchy\n",
      "/ihme/homes/abie/projects/2019/dismod_mr/src/dismod_mr/model/covariates.py:99: FutureWarning: 'select' is deprecated and will be removed in a future release. You can use .loc[labels.map(crit)] as a replacement\n",
      "  U = U.select(lambda col: 1 <= U[col].sum() < len(U[col]) or col in keep, axis=1)\n",
      "/ihme/homes/abie/projects/2019/dismod_mr/src/dismod_mr/model/covariates.py:187: FutureWarning: 'select' is deprecated and will be removed in a future release. You can use .loc[labels.map(crit)] as a replacement\n",
      "  X = input_data.select(lambda col: col.startswith('x_'), axis=1)\n",
      "/ihme/homes/abie/miniconda3/lib/python3.6/site-packages/pandas/core/indexing.py:543: SettingWithCopyWarning: \n",
      "A value is trying to be set on a copy of a slice from a DataFrame.\n",
      "Try using .loc[row_indexer,col_indexer] = value instead\n",
      "\n",
      "See the caveats in the documentation: http://pandas.pydata.org/pandas-docs/stable/indexing.html#indexing-view-versus-copy\n",
      "  self.obj[item] = s\n",
      "/ihme/homes/abie/projects/2019/dismod_mr/src/dismod_mr/model/covariates.py:272: FutureWarning: 'select' is deprecated and will be removed in a future release. You can use .loc[labels.map(crit)] as a replacement\n",
      "  Z = input_data.select(lambda col: col.startswith('z_'), axis=1)\n",
      "/ihme/homes/abie/projects/2019/dismod_mr/src/dismod_mr/model/covariates.py:273: FutureWarning: 'select' is deprecated and will be removed in a future release. You can use .loc[labels.map(crit)] as a replacement\n",
      "  Z = Z.select(lambda col: Z[col].std() > 0, 1)  # drop blank cols\n"
     ]
    }
   ],
   "source": [
    "dm.setup_model(rate_model='normal', include_covariates=False)"
   ]
  },
  {
   "cell_type": "code",
   "execution_count": 19,
   "metadata": {},
   "outputs": [],
   "source": [
    "import pymc as pm\n",
    "m = pm.MAP(dm.vars)"
   ]
  },
  {
   "cell_type": "code",
   "execution_count": 20,
   "metadata": {
    "scrolled": false
   },
   "outputs": [
    {
     "name": "stdout",
     "output_type": "stream",
     "text": [
      "Current log-probability : 196.502187\n",
      "Current log-probability : 202.972983\n",
      "Current log-probability : 204.554436\n",
      "Current log-probability : 205.146653\n",
      "Current log-probability : 205.422638\n",
      "Current log-probability : -inf\n",
      "Current log-probability : 205.529642\n",
      "Current log-probability : 205.540184\n",
      "Optimization terminated successfully.\n",
      "         Current function value: -205.540184\n",
      "         Iterations: 8\n",
      "         Function evaluations: 10966\n",
      "CPU times: user 29.3 s, sys: 29.9 ms, total: 29.3 s\n",
      "Wall time: 29.3 s\n"
     ]
    }
   ],
   "source": [
    "%%time\n",
    "m.fit(verbose=1)"
   ]
  },
  {
   "cell_type": "code",
   "execution_count": 21,
   "metadata": {},
   "outputs": [],
   "source": [
    "from IPython.core.pylabtools import figsize\n",
    "figsize(11, 5.5)"
   ]
  },
  {
   "cell_type": "code",
   "execution_count": 22,
   "metadata": {},
   "outputs": [
    {
     "data": {
      "image/png": "[encoded data removed]",
      "text/plain": [
       "<Figure size 792x396 with 4 Axes>"
      ]
     },
     "metadata": {
      "needs_background": "light"
     },
     "output_type": "display_data"
    }
   ],
   "source": [
    "dm.plot()"
   ]
  },
  {
   "cell_type": "code",
   "execution_count": 23,
   "metadata": {},
   "outputs": [
    {
     "name": "stdout",
     "output_type": "stream",
     "text": [
      "Wed Jul 17 15:31:53 PDT 2019\r\n"
     ]
    }
   ],
   "source": [
    "!date"
   ]
  },
  {
   "cell_type": "code",
   "execution_count": null,
   "metadata": {},
   "outputs": [],
   "source": []
  }
 ],
 "metadata": {
  "kernelspec": {
   "display_name": "Python (abie-dev)",
   "language": "python",
   "name": "python_abie_dev"
  },
  "language_info": {
   "codemirror_mode": {
    "name": "ipython",
    "version": 3
   },
   "file_extension": ".py",
   "mimetype": "text/x-python",
   "name": "python",
   "nbconvert_exporter": "python",
   "pygments_lexer": "ipython3",
   "version": "3.6.8"
  }
 },
 "nbformat": 4,
 "nbformat_minor": 1
}
